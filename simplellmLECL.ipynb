{
 "cells": [
  {
   "cell_type": "code",
   "execution_count": 1,
   "id": "6f4451d6",
   "metadata": {},
   "outputs": [
    {
     "name": "stdout",
     "output_type": "stream",
     "text": [
      "Requirement already satisfied: langchain in c:\\users\\neha.mandwal\\.vscode\\project\\gen ai\\langchain\\myenv\\lib\\site-packages (0.3.26)\n",
      "Requirement already satisfied: langchain-core<1.0.0,>=0.3.66 in c:\\users\\neha.mandwal\\.vscode\\project\\gen ai\\langchain\\myenv\\lib\\site-packages (from langchain) (0.3.68)\n",
      "Requirement already satisfied: langchain-text-splitters<1.0.0,>=0.3.8 in c:\\users\\neha.mandwal\\.vscode\\project\\gen ai\\langchain\\myenv\\lib\\site-packages (from langchain) (0.3.8)\n",
      "Requirement already satisfied: langsmith>=0.1.17 in c:\\users\\neha.mandwal\\.vscode\\project\\gen ai\\langchain\\myenv\\lib\\site-packages (from langchain) (0.4.5)\n",
      "Requirement already satisfied: pydantic<3.0.0,>=2.7.4 in c:\\users\\neha.mandwal\\.vscode\\project\\gen ai\\langchain\\myenv\\lib\\site-packages (from langchain) (2.11.7)\n",
      "Requirement already satisfied: SQLAlchemy<3,>=1.4 in c:\\users\\neha.mandwal\\.vscode\\project\\gen ai\\langchain\\myenv\\lib\\site-packages (from langchain) (2.0.41)\n",
      "Requirement already satisfied: requests<3,>=2 in c:\\users\\neha.mandwal\\.vscode\\project\\gen ai\\langchain\\myenv\\lib\\site-packages (from langchain) (2.32.4)\n",
      "Requirement already satisfied: PyYAML>=5.3 in c:\\users\\neha.mandwal\\.vscode\\project\\gen ai\\langchain\\myenv\\lib\\site-packages (from langchain) (6.0.2)\n",
      "Requirement already satisfied: tenacity!=8.4.0,<10.0.0,>=8.1.0 in c:\\users\\neha.mandwal\\.vscode\\project\\gen ai\\langchain\\myenv\\lib\\site-packages (from langchain-core<1.0.0,>=0.3.66->langchain) (9.1.2)\n",
      "Requirement already satisfied: jsonpatch<2.0,>=1.33 in c:\\users\\neha.mandwal\\.vscode\\project\\gen ai\\langchain\\myenv\\lib\\site-packages (from langchain-core<1.0.0,>=0.3.66->langchain) (1.33)\n",
      "Requirement already satisfied: packaging<25,>=23.2 in c:\\users\\neha.mandwal\\.vscode\\project\\gen ai\\langchain\\myenv\\lib\\site-packages (from langchain-core<1.0.0,>=0.3.66->langchain) (24.2)\n",
      "Requirement already satisfied: typing-extensions>=4.7 in c:\\users\\neha.mandwal\\.vscode\\project\\gen ai\\langchain\\myenv\\lib\\site-packages (from langchain-core<1.0.0,>=0.3.66->langchain) (4.14.1)\n",
      "Requirement already satisfied: jsonpointer>=1.9 in c:\\users\\neha.mandwal\\.vscode\\project\\gen ai\\langchain\\myenv\\lib\\site-packages (from jsonpatch<2.0,>=1.33->langchain-core<1.0.0,>=0.3.66->langchain) (3.0.0)\n",
      "Requirement already satisfied: annotated-types>=0.6.0 in c:\\users\\neha.mandwal\\.vscode\\project\\gen ai\\langchain\\myenv\\lib\\site-packages (from pydantic<3.0.0,>=2.7.4->langchain) (0.7.0)\n",
      "Requirement already satisfied: pydantic-core==2.33.2 in c:\\users\\neha.mandwal\\.vscode\\project\\gen ai\\langchain\\myenv\\lib\\site-packages (from pydantic<3.0.0,>=2.7.4->langchain) (2.33.2)\n",
      "Requirement already satisfied: typing-inspection>=0.4.0 in c:\\users\\neha.mandwal\\.vscode\\project\\gen ai\\langchain\\myenv\\lib\\site-packages (from pydantic<3.0.0,>=2.7.4->langchain) (0.4.1)\n",
      "Requirement already satisfied: charset_normalizer<4,>=2 in c:\\users\\neha.mandwal\\.vscode\\project\\gen ai\\langchain\\myenv\\lib\\site-packages (from requests<3,>=2->langchain) (3.4.2)\n",
      "Requirement already satisfied: idna<4,>=2.5 in c:\\users\\neha.mandwal\\.vscode\\project\\gen ai\\langchain\\myenv\\lib\\site-packages (from requests<3,>=2->langchain) (3.10)\n",
      "Requirement already satisfied: urllib3<3,>=1.21.1 in c:\\users\\neha.mandwal\\.vscode\\project\\gen ai\\langchain\\myenv\\lib\\site-packages (from requests<3,>=2->langchain) (2.5.0)\n",
      "Requirement already satisfied: certifi>=2017.4.17 in c:\\users\\neha.mandwal\\.vscode\\project\\gen ai\\langchain\\myenv\\lib\\site-packages (from requests<3,>=2->langchain) (2025.7.14)\n",
      "Requirement already satisfied: greenlet>=1 in c:\\users\\neha.mandwal\\.vscode\\project\\gen ai\\langchain\\myenv\\lib\\site-packages (from SQLAlchemy<3,>=1.4->langchain) (3.2.3)\n",
      "Requirement already satisfied: httpx<1,>=0.23.0 in c:\\users\\neha.mandwal\\.vscode\\project\\gen ai\\langchain\\myenv\\lib\\site-packages (from langsmith>=0.1.17->langchain) (0.28.1)\n",
      "Requirement already satisfied: orjson<4.0.0,>=3.9.14 in c:\\users\\neha.mandwal\\.vscode\\project\\gen ai\\langchain\\myenv\\lib\\site-packages (from langsmith>=0.1.17->langchain) (3.10.18)\n",
      "Requirement already satisfied: requests-toolbelt<2.0.0,>=1.0.0 in c:\\users\\neha.mandwal\\.vscode\\project\\gen ai\\langchain\\myenv\\lib\\site-packages (from langsmith>=0.1.17->langchain) (1.0.0)\n",
      "Requirement already satisfied: zstandard<0.24.0,>=0.23.0 in c:\\users\\neha.mandwal\\.vscode\\project\\gen ai\\langchain\\myenv\\lib\\site-packages (from langsmith>=0.1.17->langchain) (0.23.0)\n",
      "Requirement already satisfied: anyio in c:\\users\\neha.mandwal\\.vscode\\project\\gen ai\\langchain\\myenv\\lib\\site-packages (from httpx<1,>=0.23.0->langsmith>=0.1.17->langchain) (4.9.0)\n",
      "Requirement already satisfied: httpcore==1.* in c:\\users\\neha.mandwal\\.vscode\\project\\gen ai\\langchain\\myenv\\lib\\site-packages (from httpx<1,>=0.23.0->langsmith>=0.1.17->langchain) (1.0.9)\n",
      "Requirement already satisfied: h11>=0.16 in c:\\users\\neha.mandwal\\.vscode\\project\\gen ai\\langchain\\myenv\\lib\\site-packages (from httpcore==1.*->httpx<1,>=0.23.0->langsmith>=0.1.17->langchain) (0.16.0)\n",
      "Requirement already satisfied: sniffio>=1.1 in c:\\users\\neha.mandwal\\.vscode\\project\\gen ai\\langchain\\myenv\\lib\\site-packages (from anyio->httpx<1,>=0.23.0->langsmith>=0.1.17->langchain) (1.3.1)\n"
     ]
    }
   ],
   "source": [
    "#create llm model using LCEL\n",
    "!pip install langchain"
   ]
  },
  {
   "cell_type": "code",
   "execution_count": 9,
   "id": "d1f75c1f",
   "metadata": {},
   "outputs": [
    {
     "data": {
      "text/plain": [
       "True"
      ]
     },
     "execution_count": 9,
     "metadata": {},
     "output_type": "execute_result"
    }
   ],
   "source": [
    "##open ai api key and open source model like lama3, gemma 2, mistral and use platform GROK\n",
    "import os\n",
    "from dotenv import load_dotenv\n",
    "load_dotenv()"
   ]
  },
  {
   "cell_type": "code",
   "execution_count": 10,
   "id": "9a153dbf",
   "metadata": {},
   "outputs": [],
   "source": [
    "import openai\n",
    "openai.api_key = os.getenv(\"OPENAI_API_KEY\")\n",
    "groq_api_key = os.getenv(\"GROQ_API_KEY\")"
   ]
  },
  {
   "cell_type": "code",
   "execution_count": 11,
   "id": "cc19e2c3",
   "metadata": {},
   "outputs": [
    {
     "data": {
      "text/plain": [
       "'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'"
      ]
     },
     "execution_count": 11,
     "metadata": {},
     "output_type": "execute_result"
    }
   ],
   "source": [
    "groq_api_key"
   ]
  },
  {
   "cell_type": "code",
   "execution_count": 13,
   "id": "01f216aa",
   "metadata": {},
   "outputs": [
    {
     "name": "stdout",
     "output_type": "stream",
     "text": [
      "Collecting langchain_groq\n",
      "  Downloading langchain_groq-0.3.6-py3-none-any.whl.metadata (2.6 kB)\n",
      "Requirement already satisfied: langchain-core<1.0.0,>=0.3.68 in c:\\users\\neha.mandwal\\.vscode\\project\\gen ai\\langchain\\myenv\\lib\\site-packages (from langchain_groq) (0.3.68)\n",
      "Collecting groq<1,>=0.29.0 (from langchain_groq)\n",
      "  Downloading groq-0.30.0-py3-none-any.whl.metadata (16 kB)\n",
      "Requirement already satisfied: anyio<5,>=3.5.0 in c:\\users\\neha.mandwal\\.vscode\\project\\gen ai\\langchain\\myenv\\lib\\site-packages (from groq<1,>=0.29.0->langchain_groq) (4.9.0)\n",
      "Requirement already satisfied: distro<2,>=1.7.0 in c:\\users\\neha.mandwal\\.vscode\\project\\gen ai\\langchain\\myenv\\lib\\site-packages (from groq<1,>=0.29.0->langchain_groq) (1.9.0)\n",
      "Requirement already satisfied: httpx<1,>=0.23.0 in c:\\users\\neha.mandwal\\.vscode\\project\\gen ai\\langchain\\myenv\\lib\\site-packages (from groq<1,>=0.29.0->langchain_groq) (0.28.1)\n",
      "Requirement already satisfied: pydantic<3,>=1.9.0 in c:\\users\\neha.mandwal\\.vscode\\project\\gen ai\\langchain\\myenv\\lib\\site-packages (from groq<1,>=0.29.0->langchain_groq) (2.11.7)\n",
      "Requirement already satisfied: sniffio in c:\\users\\neha.mandwal\\.vscode\\project\\gen ai\\langchain\\myenv\\lib\\site-packages (from groq<1,>=0.29.0->langchain_groq) (1.3.1)\n",
      "Requirement already satisfied: typing-extensions<5,>=4.10 in c:\\users\\neha.mandwal\\.vscode\\project\\gen ai\\langchain\\myenv\\lib\\site-packages (from groq<1,>=0.29.0->langchain_groq) (4.14.1)\n",
      "Requirement already satisfied: idna>=2.8 in c:\\users\\neha.mandwal\\.vscode\\project\\gen ai\\langchain\\myenv\\lib\\site-packages (from anyio<5,>=3.5.0->groq<1,>=0.29.0->langchain_groq) (3.10)\n",
      "Requirement already satisfied: certifi in c:\\users\\neha.mandwal\\.vscode\\project\\gen ai\\langchain\\myenv\\lib\\site-packages (from httpx<1,>=0.23.0->groq<1,>=0.29.0->langchain_groq) (2025.7.14)\n",
      "Requirement already satisfied: httpcore==1.* in c:\\users\\neha.mandwal\\.vscode\\project\\gen ai\\langchain\\myenv\\lib\\site-packages (from httpx<1,>=0.23.0->groq<1,>=0.29.0->langchain_groq) (1.0.9)\n",
      "Requirement already satisfied: h11>=0.16 in c:\\users\\neha.mandwal\\.vscode\\project\\gen ai\\langchain\\myenv\\lib\\site-packages (from httpcore==1.*->httpx<1,>=0.23.0->groq<1,>=0.29.0->langchain_groq) (0.16.0)\n",
      "Requirement already satisfied: langsmith>=0.3.45 in c:\\users\\neha.mandwal\\.vscode\\project\\gen ai\\langchain\\myenv\\lib\\site-packages (from langchain-core<1.0.0,>=0.3.68->langchain_groq) (0.4.5)\n",
      "Requirement already satisfied: tenacity!=8.4.0,<10.0.0,>=8.1.0 in c:\\users\\neha.mandwal\\.vscode\\project\\gen ai\\langchain\\myenv\\lib\\site-packages (from langchain-core<1.0.0,>=0.3.68->langchain_groq) (9.1.2)\n",
      "Requirement already satisfied: jsonpatch<2.0,>=1.33 in c:\\users\\neha.mandwal\\.vscode\\project\\gen ai\\langchain\\myenv\\lib\\site-packages (from langchain-core<1.0.0,>=0.3.68->langchain_groq) (1.33)\n",
      "Requirement already satisfied: PyYAML>=5.3 in c:\\users\\neha.mandwal\\.vscode\\project\\gen ai\\langchain\\myenv\\lib\\site-packages (from langchain-core<1.0.0,>=0.3.68->langchain_groq) (6.0.2)\n",
      "Requirement already satisfied: packaging<25,>=23.2 in c:\\users\\neha.mandwal\\.vscode\\project\\gen ai\\langchain\\myenv\\lib\\site-packages (from langchain-core<1.0.0,>=0.3.68->langchain_groq) (24.2)\n",
      "Requirement already satisfied: jsonpointer>=1.9 in c:\\users\\neha.mandwal\\.vscode\\project\\gen ai\\langchain\\myenv\\lib\\site-packages (from jsonpatch<2.0,>=1.33->langchain-core<1.0.0,>=0.3.68->langchain_groq) (3.0.0)\n",
      "Requirement already satisfied: annotated-types>=0.6.0 in c:\\users\\neha.mandwal\\.vscode\\project\\gen ai\\langchain\\myenv\\lib\\site-packages (from pydantic<3,>=1.9.0->groq<1,>=0.29.0->langchain_groq) (0.7.0)\n",
      "Requirement already satisfied: pydantic-core==2.33.2 in c:\\users\\neha.mandwal\\.vscode\\project\\gen ai\\langchain\\myenv\\lib\\site-packages (from pydantic<3,>=1.9.0->groq<1,>=0.29.0->langchain_groq) (2.33.2)\n",
      "Requirement already satisfied: typing-inspection>=0.4.0 in c:\\users\\neha.mandwal\\.vscode\\project\\gen ai\\langchain\\myenv\\lib\\site-packages (from pydantic<3,>=1.9.0->groq<1,>=0.29.0->langchain_groq) (0.4.1)\n",
      "Requirement already satisfied: orjson<4.0.0,>=3.9.14 in c:\\users\\neha.mandwal\\.vscode\\project\\gen ai\\langchain\\myenv\\lib\\site-packages (from langsmith>=0.3.45->langchain-core<1.0.0,>=0.3.68->langchain_groq) (3.10.18)\n",
      "Requirement already satisfied: requests<3,>=2 in c:\\users\\neha.mandwal\\.vscode\\project\\gen ai\\langchain\\myenv\\lib\\site-packages (from langsmith>=0.3.45->langchain-core<1.0.0,>=0.3.68->langchain_groq) (2.32.4)\n",
      "Requirement already satisfied: requests-toolbelt<2.0.0,>=1.0.0 in c:\\users\\neha.mandwal\\.vscode\\project\\gen ai\\langchain\\myenv\\lib\\site-packages (from langsmith>=0.3.45->langchain-core<1.0.0,>=0.3.68->langchain_groq) (1.0.0)\n",
      "Requirement already satisfied: zstandard<0.24.0,>=0.23.0 in c:\\users\\neha.mandwal\\.vscode\\project\\gen ai\\langchain\\myenv\\lib\\site-packages (from langsmith>=0.3.45->langchain-core<1.0.0,>=0.3.68->langchain_groq) (0.23.0)\n",
      "Requirement already satisfied: charset_normalizer<4,>=2 in c:\\users\\neha.mandwal\\.vscode\\project\\gen ai\\langchain\\myenv\\lib\\site-packages (from requests<3,>=2->langsmith>=0.3.45->langchain-core<1.0.0,>=0.3.68->langchain_groq) (3.4.2)\n",
      "Requirement already satisfied: urllib3<3,>=1.21.1 in c:\\users\\neha.mandwal\\.vscode\\project\\gen ai\\langchain\\myenv\\lib\\site-packages (from requests<3,>=2->langsmith>=0.3.45->langchain-core<1.0.0,>=0.3.68->langchain_groq) (2.5.0)\n",
      "Downloading langchain_groq-0.3.6-py3-none-any.whl (16 kB)\n",
      "Downloading groq-0.30.0-py3-none-any.whl (131 kB)\n",
      "Installing collected packages: groq, langchain_groq\n",
      "\n",
      "   ---------------------------------------- 0/2 [groq]\n",
      "   ---------------------------------------- 0/2 [groq]\n",
      "   ---------------------------------------- 0/2 [groq]\n",
      "   ---------------------------------------- 0/2 [groq]\n",
      "   ---------------------------------------- 0/2 [groq]\n",
      "   ---------------------------------------- 0/2 [groq]\n",
      "   ---------------------------------------- 0/2 [groq]\n",
      "   ---------------------------------------- 0/2 [groq]\n",
      "   ---------------------------------------- 0/2 [groq]\n",
      "   -------------------- ------------------- 1/2 [langchain_groq]\n",
      "   ---------------------------------------- 2/2 [langchain_groq]\n",
      "\n",
      "Successfully installed groq-0.30.0 langchain_groq-0.3.6\n"
     ]
    }
   ],
   "source": [
    "!pip install langchain_groq"
   ]
  },
  {
   "cell_type": "code",
   "execution_count": 14,
   "id": "c9e9c96a",
   "metadata": {},
   "outputs": [],
   "source": [
    "from langchain_groq import ChatGroq\n",
    "from langchain_openai import ChatOpenAI"
   ]
  },
  {
   "cell_type": "code",
   "execution_count": 15,
   "id": "9657e813",
   "metadata": {},
   "outputs": [],
   "source": [
    "model = ChatGroq(model=\"Gemma2-9b-It\", groq_api_key=groq_api_key)"
   ]
  },
  {
   "cell_type": "code",
   "execution_count": 16,
   "id": "4f19e4c2",
   "metadata": {},
   "outputs": [
    {
     "data": {
      "text/plain": [
       "ChatGroq(client=<groq.resources.chat.completions.Completions object at 0x000001BC20A2F2D0>, async_client=<groq.resources.chat.completions.AsyncCompletions object at 0x000001BC1F477690>, model_name='Gemma2-9b-It', model_kwargs={}, groq_api_key=SecretStr('**********'))"
      ]
     },
     "execution_count": 16,
     "metadata": {},
     "output_type": "execute_result"
    }
   ],
   "source": [
    "model"
   ]
  },
  {
   "cell_type": "code",
   "execution_count": 17,
   "id": "7de1258d",
   "metadata": {},
   "outputs": [
    {
     "name": "stdout",
     "output_type": "stream",
     "text": [
      "Requirement already satisfied: langchain_core in c:\\users\\neha.mandwal\\.vscode\\project\\gen ai\\langchain\\myenv\\lib\\site-packages (0.3.68)\n",
      "Requirement already satisfied: langsmith>=0.3.45 in c:\\users\\neha.mandwal\\.vscode\\project\\gen ai\\langchain\\myenv\\lib\\site-packages (from langchain_core) (0.4.5)\n",
      "Requirement already satisfied: tenacity!=8.4.0,<10.0.0,>=8.1.0 in c:\\users\\neha.mandwal\\.vscode\\project\\gen ai\\langchain\\myenv\\lib\\site-packages (from langchain_core) (9.1.2)\n",
      "Requirement already satisfied: jsonpatch<2.0,>=1.33 in c:\\users\\neha.mandwal\\.vscode\\project\\gen ai\\langchain\\myenv\\lib\\site-packages (from langchain_core) (1.33)\n",
      "Requirement already satisfied: PyYAML>=5.3 in c:\\users\\neha.mandwal\\.vscode\\project\\gen ai\\langchain\\myenv\\lib\\site-packages (from langchain_core) (6.0.2)\n",
      "Requirement already satisfied: packaging<25,>=23.2 in c:\\users\\neha.mandwal\\.vscode\\project\\gen ai\\langchain\\myenv\\lib\\site-packages (from langchain_core) (24.2)\n",
      "Requirement already satisfied: typing-extensions>=4.7 in c:\\users\\neha.mandwal\\.vscode\\project\\gen ai\\langchain\\myenv\\lib\\site-packages (from langchain_core) (4.14.1)\n",
      "Requirement already satisfied: pydantic>=2.7.4 in c:\\users\\neha.mandwal\\.vscode\\project\\gen ai\\langchain\\myenv\\lib\\site-packages (from langchain_core) (2.11.7)\n",
      "Requirement already satisfied: jsonpointer>=1.9 in c:\\users\\neha.mandwal\\.vscode\\project\\gen ai\\langchain\\myenv\\lib\\site-packages (from jsonpatch<2.0,>=1.33->langchain_core) (3.0.0)\n",
      "Requirement already satisfied: httpx<1,>=0.23.0 in c:\\users\\neha.mandwal\\.vscode\\project\\gen ai\\langchain\\myenv\\lib\\site-packages (from langsmith>=0.3.45->langchain_core) (0.28.1)\n",
      "Requirement already satisfied: orjson<4.0.0,>=3.9.14 in c:\\users\\neha.mandwal\\.vscode\\project\\gen ai\\langchain\\myenv\\lib\\site-packages (from langsmith>=0.3.45->langchain_core) (3.10.18)\n",
      "Requirement already satisfied: requests<3,>=2 in c:\\users\\neha.mandwal\\.vscode\\project\\gen ai\\langchain\\myenv\\lib\\site-packages (from langsmith>=0.3.45->langchain_core) (2.32.4)\n",
      "Requirement already satisfied: requests-toolbelt<2.0.0,>=1.0.0 in c:\\users\\neha.mandwal\\.vscode\\project\\gen ai\\langchain\\myenv\\lib\\site-packages (from langsmith>=0.3.45->langchain_core) (1.0.0)\n",
      "Requirement already satisfied: zstandard<0.24.0,>=0.23.0 in c:\\users\\neha.mandwal\\.vscode\\project\\gen ai\\langchain\\myenv\\lib\\site-packages (from langsmith>=0.3.45->langchain_core) (0.23.0)\n",
      "Requirement already satisfied: anyio in c:\\users\\neha.mandwal\\.vscode\\project\\gen ai\\langchain\\myenv\\lib\\site-packages (from httpx<1,>=0.23.0->langsmith>=0.3.45->langchain_core) (4.9.0)\n",
      "Requirement already satisfied: certifi in c:\\users\\neha.mandwal\\.vscode\\project\\gen ai\\langchain\\myenv\\lib\\site-packages (from httpx<1,>=0.23.0->langsmith>=0.3.45->langchain_core) (2025.7.14)\n",
      "Requirement already satisfied: httpcore==1.* in c:\\users\\neha.mandwal\\.vscode\\project\\gen ai\\langchain\\myenv\\lib\\site-packages (from httpx<1,>=0.23.0->langsmith>=0.3.45->langchain_core) (1.0.9)\n",
      "Requirement already satisfied: idna in c:\\users\\neha.mandwal\\.vscode\\project\\gen ai\\langchain\\myenv\\lib\\site-packages (from httpx<1,>=0.23.0->langsmith>=0.3.45->langchain_core) (3.10)\n",
      "Requirement already satisfied: h11>=0.16 in c:\\users\\neha.mandwal\\.vscode\\project\\gen ai\\langchain\\myenv\\lib\\site-packages (from httpcore==1.*->httpx<1,>=0.23.0->langsmith>=0.3.45->langchain_core) (0.16.0)\n",
      "Requirement already satisfied: annotated-types>=0.6.0 in c:\\users\\neha.mandwal\\.vscode\\project\\gen ai\\langchain\\myenv\\lib\\site-packages (from pydantic>=2.7.4->langchain_core) (0.7.0)\n",
      "Requirement already satisfied: pydantic-core==2.33.2 in c:\\users\\neha.mandwal\\.vscode\\project\\gen ai\\langchain\\myenv\\lib\\site-packages (from pydantic>=2.7.4->langchain_core) (2.33.2)\n",
      "Requirement already satisfied: typing-inspection>=0.4.0 in c:\\users\\neha.mandwal\\.vscode\\project\\gen ai\\langchain\\myenv\\lib\\site-packages (from pydantic>=2.7.4->langchain_core) (0.4.1)\n",
      "Requirement already satisfied: charset_normalizer<4,>=2 in c:\\users\\neha.mandwal\\.vscode\\project\\gen ai\\langchain\\myenv\\lib\\site-packages (from requests<3,>=2->langsmith>=0.3.45->langchain_core) (3.4.2)\n",
      "Requirement already satisfied: urllib3<3,>=1.21.1 in c:\\users\\neha.mandwal\\.vscode\\project\\gen ai\\langchain\\myenv\\lib\\site-packages (from requests<3,>=2->langsmith>=0.3.45->langchain_core) (2.5.0)\n",
      "Requirement already satisfied: sniffio>=1.1 in c:\\users\\neha.mandwal\\.vscode\\project\\gen ai\\langchain\\myenv\\lib\\site-packages (from anyio->httpx<1,>=0.23.0->langsmith>=0.3.45->langchain_core) (1.3.1)\n"
     ]
    }
   ],
   "source": [
    "!pip install langchain_core"
   ]
  },
  {
   "cell_type": "code",
   "execution_count": 18,
   "id": "f8e5fc8e",
   "metadata": {},
   "outputs": [],
   "source": [
    "from langchain_core.messages import HumanMessage, SystemMessage"
   ]
  },
  {
   "cell_type": "code",
   "execution_count": 24,
   "id": "5c3e6bd8",
   "metadata": {},
   "outputs": [],
   "source": [
    "messages = [\n",
    "   SystemMessage(content=\"Translate the following from English to French\"),\n",
    "   HumanMessage(content=\"How are you?\") \n",
    "]\n",
    "result =model.invoke(messages)"
   ]
  },
  {
   "cell_type": "code",
   "execution_count": 25,
   "id": "da544c05",
   "metadata": {},
   "outputs": [
    {
     "data": {
      "text/plain": [
       "'The most common way to say \"How are you?\" in French is:\\n\\n**Comment allez-vous?** (formal)\\n\\nFor informal situations, you can use:\\n\\n**Comment vas-tu?** (singular, to someone you know well)\\n\\n**Comment allez-vous?** (plural, to multiple people)\\n\\n\\n\\nLet me know if you have any other phrases you\\'d like translated!\\n'"
      ]
     },
     "execution_count": 25,
     "metadata": {},
     "output_type": "execute_result"
    }
   ],
   "source": [
    "from langchain_core.output_parsers import StrOutputParser\n",
    "output_parser=  StrOutputParser()\n",
    "output_parser.invoke(result)"
   ]
  },
  {
   "cell_type": "code",
   "execution_count": 26,
   "id": "bf1fa262",
   "metadata": {},
   "outputs": [
    {
     "data": {
      "text/plain": [
       "'The most common way to say \"How are you?\" in French is:\\n\\n**Comment allez-vous ?** (formal)\\n\\nYou can also use:\\n\\n* **Comment vas-tu ?** (informal, used with friends and family)\\n\\n\\nLet me know if you\\'d like more examples or have other phrases you want translated!\\n'"
      ]
     },
     "execution_count": 26,
     "metadata": {},
     "output_type": "execute_result"
    }
   ],
   "source": [
    "#using lcel we can change the component\n",
    "chain= model|output_parser\n",
    "chain.invoke(messages)"
   ]
  },
  {
   "cell_type": "code",
   "execution_count": 27,
   "id": "f2a97ac3",
   "metadata": {},
   "outputs": [],
   "source": [
    "#prompt templates\n",
    "from langchain_core.prompts import ChatPromptTemplate"
   ]
  },
  {
   "cell_type": "code",
   "execution_count": 30,
   "id": "c5e08595",
   "metadata": {},
   "outputs": [],
   "source": [
    "generic_template = \"Translate the following into {language}:\"\n",
    "prompt = ChatPromptTemplate.from_messages([\n",
    "    (\"system\", generic_template), (\"user\",\"{text}\")\n",
    "])"
   ]
  },
  {
   "cell_type": "code",
   "execution_count": 31,
   "id": "8459b7d5",
   "metadata": {},
   "outputs": [
    {
     "data": {
      "text/plain": [
       "ChatPromptValue(messages=[SystemMessage(content='Translate the following into French:', additional_kwargs={}, response_metadata={}), HumanMessage(content='How are you?', additional_kwargs={}, response_metadata={})])"
      ]
     },
     "execution_count": 31,
     "metadata": {},
     "output_type": "execute_result"
    }
   ],
   "source": [
    "prompt.invoke({\"language\": \"French\", \"text\":\"How are you?\"})"
   ]
  },
  {
   "cell_type": "code",
   "execution_count": 32,
   "id": "2fadff02",
   "metadata": {},
   "outputs": [
    {
     "data": {
      "text/plain": [
       "'The most common way to say \"How are you?\" in French is:\\n\\n**Comment allez-vous?** (formal)\\n\\nYou can also use:\\n\\n* **Comment vas-tu?** (informal, used with people you know well) \\n\\n\\nLet me know if you\\'d like to know more French phrases!\\n'"
      ]
     },
     "execution_count": 32,
     "metadata": {},
     "output_type": "execute_result"
    }
   ],
   "source": [
    "chain= prompt|model|output_parser\n",
    "chain.invoke({\"language\":\"Frencg\",\"text\":\"How are you?\"})"
   ]
  },
  {
   "cell_type": "code",
   "execution_count": 39,
   "id": "85171ff6",
   "metadata": {},
   "outputs": [],
   "source": [
    "def maxum(arr1):\n",
    "    start = end = 0\n",
    "    max_sum = arr1[0]\n",
    "    for i in range(len(arr1)):\n",
    "        sum= 0\n",
    "        for j in range(i, len(arr1)):\n",
    "            sum+= arr1[j]\n",
    "            if sum>max_sum:\n",
    "                max_sum = sum\n",
    "                start = i\n",
    "                end = j\n",
    "    return max_sum, arr1[start:end+1]\n",
    "max_sum = maxum(arr1)"
   ]
  },
  {
   "cell_type": "code",
   "execution_count": 40,
   "id": "746e7029",
   "metadata": {},
   "outputs": [
    {
     "data": {
      "text/plain": [
       "(19, [7, 5, -3, 1, 9])"
      ]
     },
     "execution_count": 40,
     "metadata": {},
     "output_type": "execute_result"
    }
   ],
   "source": [
    "arr1 = [-1,-4,7,5,-3,1,9]\n",
    "maxum(arr1)"
   ]
  },
  {
   "cell_type": "code",
   "execution_count": 51,
   "id": "e846e90f",
   "metadata": {},
   "outputs": [
    {
     "name": "stdout",
     "output_type": "stream",
     "text": [
      "9\n"
     ]
    }
   ],
   "source": [
    "def prof(arr1):\n",
    "    min_price = arr1[0]\n",
    "    max_price = 0\n",
    "    for i in arr1:\n",
    "        if min_price> i:\n",
    "            min_price = i\n",
    "        else:\n",
    "            profit = i - min_price\n",
    "            if profit > max_price:\n",
    "                max_price = profit\n",
    "    return max_price\n",
    "\n",
    "\n",
    "arr1 = [2, 1, 4, 8, 4, 2, 10, 6]\n",
    "actual_prof = prof(arr1)\n",
    "print(actual_prof)"
   ]
  },
  {
   "cell_type": "code",
   "execution_count": 73,
   "id": "9e558efd",
   "metadata": {},
   "outputs": [],
   "source": [
    "\n",
    "\n",
    "def sort(arr):\n",
    "    count0 = arr.count(0)\n",
    "    count1 = arr.count(1)\n",
    "    count2 = arr.count(2)\n",
    "\n",
    "    for i in range(len(arr)):\n",
    "        n = len(arr)\n",
    "        if count0 != 0:\n",
    "            arr[i] = 0\n",
    "            count0-=1\n",
    "\n",
    "        elif  count1!=0:\n",
    "            arr[i] = 1\n",
    "            count1-=1\n",
    "        else:\n",
    "            arr[i]=2\n",
    "    return arr\n",
    "\n",
    "\n"
   ]
  },
  {
   "cell_type": "code",
   "execution_count": 74,
   "id": "ee109034",
   "metadata": {},
   "outputs": [
    {
     "data": {
      "text/plain": [
       "[0, 0, 0, 1, 1, 1, 1, 1, 2, 2, 2]"
      ]
     },
     "execution_count": 74,
     "metadata": {},
     "output_type": "execute_result"
    }
   ],
   "source": [
    "arr = [1,2,1,1,2,2,0,1,0,0,1]\n",
    "sort(arr)"
   ]
  },
  {
   "cell_type": "code",
   "execution_count": null,
   "id": "53ffdacd",
   "metadata": {},
   "outputs": [],
   "source": []
  }
 ],
 "metadata": {
  "kernelspec": {
   "display_name": "myenv",
   "language": "python",
   "name": "python3"
  },
  "language_info": {
   "codemirror_mode": {
    "name": "ipython",
    "version": 3
   },
   "file_extension": ".py",
   "mimetype": "text/x-python",
   "name": "python",
   "nbconvert_exporter": "python",
   "pygments_lexer": "ipython3",
   "version": "3.11.0"
  }
 },
 "nbformat": 4,
 "nbformat_minor": 5
}
