{
 "cells": [
  {
   "cell_type": "code",
   "execution_count": 2,
   "id": "ab4dc53c",
   "metadata": {},
   "outputs": [],
   "source": [
    "url = \"https://learn.microsoft.com/en-us/intune/intune-service/fundamentals/what-is-intune\""
   ]
  },
  {
   "cell_type": "code",
   "execution_count": 3,
   "id": "247f22bf",
   "metadata": {},
   "outputs": [],
   "source": [
    "import os\n",
    "from dotenv import load_dotenv\n",
    "load_dotenv()\n",
    "\n",
    "os.environ[\"OPENAI_API_KEY\"] = os.getenv(\"OPENAI_API_KEY\")\n",
    "os.environ[\"LANGCHAIN_API_KEY\"]= os.getenv(\"LANGCHAIN_API_KEY\")\n",
    "os.environ[\"LANGCHAIN_TRACKING_V2\"] = \"true\"\n",
    "os.environ[\"LANGCHAIN_PROJECT\"] = os.getenv(\"LANGCHAIN_PROJECT\")\n"
   ]
  },
  {
   "cell_type": "code",
   "execution_count": 4,
   "id": "150e0ad0",
   "metadata": {},
   "outputs": [
    {
     "name": "stderr",
     "output_type": "stream",
     "text": [
      "USER_AGENT environment variable not set, consider setting it to identify your requests.\n"
     ]
    }
   ],
   "source": [
    "##data ingestion\n",
    "\n",
    "from langchain_community.document_loaders import WebBaseLoader"
   ]
  },
  {
   "cell_type": "code",
   "execution_count": 5,
   "id": "8ca95b77",
   "metadata": {},
   "outputs": [],
   "source": [
    "loader= WebBaseLoader(url)"
   ]
  },
  {
   "cell_type": "code",
   "execution_count": 6,
   "id": "2aba3ea1",
   "metadata": {},
   "outputs": [
    {
     "data": {
      "text/plain": [
       "<langchain_community.document_loaders.web_base.WebBaseLoader at 0x1e915631410>"
      ]
     },
     "execution_count": 6,
     "metadata": {},
     "output_type": "execute_result"
    }
   ],
   "source": [
    "loader"
   ]
  },
  {
   "cell_type": "code",
   "execution_count": 7,
   "id": "51196978",
   "metadata": {},
   "outputs": [
    {
     "data": {
      "text/plain": [
       "[Document(metadata={'source': 'https://learn.microsoft.com/en-us/intune/intune-service/fundamentals/what-is-intune', 'title': 'What is Microsoft Intune | Microsoft Learn', 'description': 'Microsoft Intune manages users and devices, simplifies app management and automated policy deployment, and integrates with mobile threat defense. It connects to Managed Google Play, Apple tokens and certificates, and Teamviewer for remote assistance. Can use MDM or MAM to protect data, configure devices, and simplify access to company resources.', 'language': 'en-us'}, page_content=\" \\n\\n\\nWhat is Microsoft Intune | Microsoft Learn\\n\\n\\n\\n\\n\\n\\n\\n\\n\\n\\n\\n\\n\\n\\n\\n \\n\\n\\n\\n\\n\\n\\n\\n\\n\\n\\n\\n\\n\\n\\n\\n\\n\\n\\n\\n\\n\\n\\n\\n\\n\\n\\n\\n\\n\\n\\n\\n\\n\\n\\n\\n\\n\\n\\n\\n\\n\\n\\n\\n\\n\\n\\n\\n\\n\\n\\n\\n\\n\\n\\n\\n\\n\\n\\n\\n\\n\\n\\n\\n\\n\\n\\n\\n\\n\\n\\n\\t\\t\\tSkip to main content\\n\\t\\t\\n\\n\\t\\t\\tSkip to Ask Learn chat experience\\n\\t\\t\\n\\n\\n\\n\\nThis browser is no longer supported.\\n\\n\\t\\t\\t\\t\\t\\tUpgrade to Microsoft Edge to take advantage of the latest features, security updates, and technical support.\\n\\t\\t\\t\\t\\t\\n\\n\\n\\t\\t\\t\\t\\t\\t\\tDownload Microsoft Edge\\n\\t\\t\\t\\t\\t\\t\\n\\n\\t\\t\\t\\t\\t\\t\\tMore info about Internet Explorer and Microsoft Edge\\n\\t\\t\\t\\t\\t\\t\\n\\n\\n\\n\\n\\n\\n\\n\\n\\n\\n\\n\\n\\n\\n\\n\\n\\n\\n\\n\\n\\n\\n\\n\\n\\n\\n Table of contents \\n\\n\\n\\nExit focus mode\\n\\n\\n\\n\\n\\n\\n\\n\\n\\n\\n\\n\\n\\n\\n\\n\\n\\n\\n\\n\\n\\n\\n\\n\\n\\n\\nAsk Learn\\n\\n\\n\\n\\n\\nAsk Learn\\n\\n\\n\\n\\n\\n\\n\\n\\n\\n\\n\\n\\nTable of contents\\n\\n\\n\\n\\n\\nRead in English\\n\\n\\n\\n\\n\\nAdd\\n\\n\\n\\n\\n\\nAdd to plan\\n\\n\\n\\n\\n\\nEdit\\n\\n\\nShare via\\n\\n\\n\\n\\nFacebook\\n\\n\\n\\n\\n\\nx.com\\n\\n\\n\\n\\n\\nLinkedIn\\n\\n\\n\\n\\n\\nEmail\\n\\n\\n\\n\\n\\n\\nPrint\\n\\n\\n\\n\\n\\n\\n\\n\\n\\n\\n\\n\\n\\n\\n\\n\\nNote\\n\\n\\n\\t\\t\\t\\t\\t\\tAccess to this page requires authorization. You can try signing in or changing directories.\\n\\t\\t\\t\\t\\t\\n\\n\\t\\t\\t\\t\\t\\tAccess to this page requires authorization. You can try changing directories.\\n\\t\\t\\t\\t\\t\\n\\n\\n\\nMicrosoft Intune securely manages identities, manages apps, and manages devices\\n\\n\\n\\n\\n\\n\\t\\t\\t\\t2025-04-30\\n\\t\\t\\t\\n\\n\\n\\n\\n\\n\\n\\n\\nFeedback\\n\\n\\n\\n\\n\\n\\t\\t\\t\\tIn this article\\n\\t\\t\\t\\n\\nAs organizations support hybrid and remote workforces, they're challenged with managing the different devices that access organization resources. Employees and students need to collaborate, work from anywhere, and securely access and connect to these resources. Admins need to protect organization data, manage end user access, and support users from wherever they work.\\n✅ To help with these challenges and tasks, use Microsoft Intune.\\nMicrosoft Intune is a cloud-based endpoint management solution. It manages user access to organizational resources and simplifies app and device management across your many devices, including mobile devices, desktop computers, and virtual endpoints.\\n\\n\\n\\n\\nYou can protect access and data on organization-owned and users personal devices. And, Intune has compliance and reporting features that support the Zero Trust security model.\\n\\nThis article lists some features and benefits of Microsoft Intune.\\n\\nTip\\n\\nTo get Intune, go to Licenses available for Microsoft Intune and Intune 30-day trial.\\nFor more information on the Intune licensing plans, go to Microsoft Intune capabilities and plans.\\nFor information on what it means to be cloud-native, go to Learn more about cloud-native endpoints.\\n\\n\\nKey features and benefits\\nSome key features and benefits of Intune include:\\n✅ Manage users and devices\\nWith Intune, you can manage devices owned by your organization and devices owned by your end users. Microsoft Intune supports Android, Android Open Source Project (AOSP), iOS/iPadOS, Linux Ubuntu Desktop, macOS, and Windows client devices. With Intune, you can use these devices to securely access organization resources with policies you create.\\nFor more information, go to:\\n\\nManage identities using Microsoft Intune\\nManage devices using Microsoft Intune\\nSupported operating systems in Microsoft Intune\\n\\n\\nNote\\nIf you manage on-premises Windows Server, you can use Configuration Manager.\\n\\n✅ Simplify app management\\nIntune has a built-in app experience, including app deployment, updates, and removal. You can:\\n\\nConnect to and distribute apps from your private app stores.\\nEnable Microsoft 365 apps, including Microsoft Teams.\\nDeploy Win32 and line-of-business (LOB) apps.\\nCreate app protection policies that protect data within an app.\\nManage access to apps & their data.\\n\\nFor more information, go to Manage apps using Microsoft Intune.\\n✅ Automate policy deployment\\nYou can create policies for apps, security, device configuration, compliance, Conditional Access, and more. When the policies are ready, you can deploy these policies to your user groups and device groups. To receive these policies, the devices only need internet access.\\nFor more information, go to Assign policies in Microsoft Intune.\\n✅ Use the self-service features\\nEmployees and students can use the Company Portal app and website to reset a PIN/password, install apps, join groups, and more. You can customize the Company Portal to help reduce support calls.\\nFor more information, go to Configure the Intune Company Portal apps, Company Portal website, and Intune app.\\n✅ Integrate with mobile threat defense\\nIntune integrates with Microsoft Defender for Endpoint and third party partner services. With these services, the focus is on endpoint security. You can create policies that respond to threats, do real-time risk analysis, and automate remediation.\\nFor more information, go to Mobile Threat Defense integration with Intune.\\n✅ Use a web-based admin center\\nThe Intune admin center focuses on endpoint management, including data-driven reporting. Admins can sign into the admin center from any device that has internet access.\\nFor more information, go to Walkthrough the Intune admin center. To sign in to the admin center, go to Microsoft Intune admin center.\\nThis admin center uses Microsoft Graph REST APIs to programmatically access the Intune service. Every action in the admin center is a Microsoft Graph call. If you're not familiar with Graph, and want to learn more, go to Graph integrates with Microsoft Intune.\\n✅ Advanced endpoint management and security\\nThe Microsoft Intune Suite offers different features, like Remote Help, Endpoint Privilege Management, Microsoft Tunnel for MAM, and more.\\nFor more information, go to Intune Suite add-on features.\\n\\nTip\\nStep through a training module to learn how you can benefit from modern endpoint management with Microsoft Intune.\\n\\n✅ Use Microsoft Copilot in Intune for AI-generated analysis\\nCopilot in Intune is available and has capabilities that are powered by Security Copilot.\\nCopilot can summarize existing policies, give you more setting information, including recommended values and potential conflicts. You can also get device details and troubleshoot a device.\\nFor more information, go to Microsoft Copilot in Intune.\\nIntegrates with other Microsoft services and apps\\nMicrosoft Intune integrates with other Microsoft products and services that focus on endpoint management, including:\\n\\nConfiguration Manager for on-premises endpoint management and Windows Server, including deploying software updates and managing data centers\\nYou can use Intune and Configuration Manager together in a co-management scenario, use tenant attach, or use both. With these options, you get the benefits of the web-based admin center and can use other cloud-based features available in Intune.\\nFor more specific information, go to:\\n\\nWhat is co-management\\nFrequently asked questions about co-management\\nHow to enable tenant attach\\n\\n\\nWindows Autopilot for modern OS deployment and provisioning\\nWith Windows Autopilot, you can provision new devices and send these devices directly to users from an OEM or device provider. For existing devices, you can reimage these devices to use Windows Autopilot and deploy the latest Windows version.\\nFor more specific information, go to:\\n\\nWindows Autopilot overview\\nWindows Autopilot deployment for existing devices\\n\\n\\nEndpoint analytics for visibility and reporting on end user experiences, including device performance and reliability\\nYou can use Endpoint analytics to help identify policies or hardware issues that slow down devices. It also provides guidance that can help you proactively improve end user experiences and reduce help desk tickets.\\nFor more specific information, go to:\\n\\nWhat is Endpoint analytics\\nEnroll Intune devices into Endpoint analytics\\n\\n\\nMicrosoft 365 for end user productivity Office apps, including Outlook, Teams, Sharepoint, OneDrive, and more\\nUsing Intune, you can deploy Microsoft 365 apps to users and devices in your organization. You can also deploy these apps when users sign in for the first time.\\nFor more specific information, go to:\\n\\nAdd Microsoft 365 Apps to Windows 10/11 devices with Microsoft Intune\\nMicrosoft 365 docs: Manage devices with Intune\\n\\n\\nMicrosoft Defender for Endpoint to help enterprises prevent, detect, investigate, and respond to threats\\nIn Intune, you can create a service-to-service connection between Intune and Microsoft Defender for Endpoint. When they're connected, you can create policies that scan files, detect threats, and report threat levels to Microsoft Defender for Endpoint. You can also create compliance policies that set an allowable level of risk. When combined with Conditional Access, you can block access to organization resources for devices that are noncompliant.\\nFor more specific information, go to:\\n\\nEnforce compliance for Microsoft Defender for Endpoint with Conditional Access in Intune\\nConfigure Microsoft Defender for Endpoint in Intune\\n\\n\\nWindows Autopatch for automatic patching of Windows, Microsoft 365 apps for enterprise, Microsoft Edge, and Microsoft Teams\\nWindows Autopatch is a cloud based service. It keeps software current, gives users the latest productivity tools, minimizes on-premises infrastructure, and helps free up your IT admins to focus on other projects. Windows Autopatch uses Microsoft Intune to manage patching for Intune-enrolled devices or devices using co-management (Intune + Configuration Manager).\\nFor more specific information, go to:\\n\\nWhat is Windows Autopatch?\\nFrequently Asked Questions about Windows Autopatch\\n\\n\\n\\nIntegrates with third party partner devices and apps\\nThe Intune admin center makes it easy to connect to different partner services, including:\\n\\nManaged Google Play for Android apps: When you connect to your Managed Google Play account, admins can access your organization's private store for Android apps, and deploy these apps to your devices.\\nFor more information, go to Add Managed Google Play apps to Android Enterprise devices with Intune.\\n\\nApple tokens and certificates for enrollment and apps: When they're added, your iOS/iPadOS and macOS devices can enroll in Intune and receive policies from Intune. Admins can access your volume purchased iOS/iPad and macOS app licenses, and deploy these apps to your devices.\\nFor more information, go to:\\n\\nGet an Apple MDM push certificate\\nAutomatically enroll iOS/iPadOS devices by using Apple's Automated Device Enrollment\\nManage iOS and macOS apps purchased through Apple Business Manager with Microsoft Intune\\n\\n\\nTeamViewer for remote assist: When you connect to your TeamViewer account, you can use TeamViewer to remotely assist devices.\\nFor more information, go to Use TeamViewer to remotely administer Intune devices.\\n\\n\\nWith these services, Intune:\\n\\nGives admins simplified access to third party partner app services.\\nCan manage hundreds of third party partner apps.\\nSupports public retail store apps, line of business (LOB) apps, private apps not available in the public store, custom apps, and more.\\n\\nFor more platform-specific requirements to enroll third party partner devices in Intune, go to:\\n\\nDeployment guide: Enroll Android devices in Microsoft Intune\\nDeployment guide: Enroll iOS and iPadOS devices in Microsoft Intune\\nDeployment guide: Enroll Linux devices in Microsoft Intune\\nDeployment guide: Enroll macOS devices in Microsoft Intune\\n\\nEnroll in device management, application management, or both\\n✅ Organization-owned devices are enrolled in Intune for mobile device management (MDM). MDM is device centric, so device features are configured based on who needs them. For example, you can configure a device to allow access to Wi-Fi, but only if the signed-in user is an organization account.\\nIn Intune, you create policies that configure features & settings and provide security & protection. Your admin team fully manages the devices, including the user identities that sign in, the apps that are installed, and the data that's accessed.\\nWhen devices enroll, you can deploy your policies during the enrollment process. When enrollment completes, the device is ready to use.\\n✅ For personal devices in bring-your-own-device (BYOD) scenarios, you can use Intune for mobile application management (MAM). MAM is user centric, so the app data is protected regardless of the device used to access this data. There's a focus on apps, including securely accessing apps and protecting data within the apps.\\nWith MAM, you can:\\n\\nPublish mobile apps to users.\\nConfigure apps and automatically update apps.\\nView data reports that focus on app inventory and app usage.\\n\\n✅ You can also use MDM and MAM together. If your devices are enrolled and there are apps that need extra security, then you can also use MAM app protection policies.\\nFor more information, go to:\\n\\nDevice enrollment in Intune?\\nApp protection policies overview\\n\\nProtect data on any device\\nWith Intune, you can protect data on managed devices (enrolled in Intune) and protect data on unmanaged devices (not enrolled in Intune). Intune can isolate organization data from personal data. The idea is to protect your company information using policies that you configure and deploy.\\nFor organization-owned devices, you want full control over the devices, especially security. When devices enroll, they receive your security rules and settings.\\nOn devices enrolled in Intune, you can:\\n\\nCreate and deploy policies that configure security settings, set password requirements, deploy certificates, and more.\\nUse mobile threat defense services to scan devices, detect threats, and remediate threats.\\nView data and reports that measure compliance with your security settings and rules.\\nUse Conditional Access to only allow managed and compliant devices access to organization resources, apps, and data.\\nRemove organization data if a device is lost or stolen.\\n\\nFor personal devices, users might not want their IT admins to have full control. To support a hybrid work environment, give users options. For example, users enroll their devices if they want full access to your organization's resources. Or, if these users only want access to Outlook or Microsoft Teams, then use app protection policies that require multifactor authentication (MFA).\\nOn devices using application management, you can:\\n\\nUse mobile threat defense services to protect app data. The service can scan devices, detect threats, and assess risk.\\nPrevent organization data from being copied and pasted into personal apps.\\nUse app protection policies on apps and on unmanaged devices enrolled in a third party or partner MDM.\\nUse Conditional Access to restrict the apps that can access organization email and files.\\nRemove organization data within apps.\\n\\nFor more information, go to:\\n\\nProtect data and devices with Microsoft Intune\\nMobile Threat Defense integration with Intune\\n\\nSimplify access\\nIntune helps organizations support employees who can work from anywhere. There are features you can configure that allow users to connect to an organization, wherever they might be.\\nThis section includes some common features that you can configure in Intune.\\nUse Windows Hello for Business instead of passwords\\nWindows Hello for Business helps protect against phishing attacks and other security threats. It also helps users sign in to their devices and apps more quickly and easily.\\nWindows Hello for Business replaces passwords with a PIN or biometric, such as fingerprint or facial recognition. This biometric information is stored locally on the devices and is never sent to external devices or servers.\\nFor more information, go to:\\n\\nGet an overview Windows Hello for Business\\nManage Windows Hello for Business on devices when they enroll in Intune\\nManage identities using Microsoft Intune\\n\\nCreate a VPN connection for remote users\\nVPN policies give users secure remote access to your organization network.\\nUsing common VPN connection partners, including Check Point, Cisco, Microsoft Tunnel, NetMotion, Pulse Secure, and more, you can create a VPN policy with your network settings. When the policy is ready, you deploy this policy to your users and devices that need to connect to your network remotely.\\nIn the VPN policy, you can use certificates to authenticate the VPN connection. When you use certificates, your end users don't need to enter usernames and passwords.\\nFor more information, go to:\\n\\nCreate VPN profiles to connect to VPN servers in Intune\\nUse certificates for authentication in Intune\\nLearn more about Microsoft Tunnel for Intune\\nUse Microsoft Tunnel for MAM\\n\\nCreate a Wi-Fi connection for on-premises users\\nFor users who need to connect to your organization network on-premises, you can create a Wi-Fi policy with your network settings. You can connect to a specific SSID, select an authentication method, use a proxy, and more. You can also configure the policy to automatically connect to Wi-Fi when the device is in range.\\nIn the Wi-Fi policy, you can use certificates to authenticate the Wi-Fi connection. When you use certificates, your end users don't need to enter usernames and passwords.\\nWhen the policy is ready, you deploy this policy to your on-premises users and devices that need to connect to your on-premises network.\\nFor more information, go to:\\n\\nCreate Wi-Fi policy to connect to Wi-Fi networks in Intune\\nUse certificates for authentication in Microsoft Intune\\n\\nEnable single sign-on (SSO) to your apps and services\\nWhen you enable SSO, users can automatically sign in to apps and services using their Microsoft Entra organization account, including some mobile threat defense partner apps.\\nSpecifically:\\n\\nOn Windows devices, SSO is automatically built in and used to sign in to apps and websites that use Microsoft Entra ID for authentication, including Microsoft 365 apps. You can also enable SSO on VPN and Wi-Fi policies.\\n\\nOn iOS/iPadOS and macOS devices, you can use the Microsoft Enterprise SSO plug-in to automatically sign in to apps and websites that use Microsoft Entra ID for authentication, including Microsoft 365 apps.\\nFor more information, go to Single sign-on (SSO) overview and options for Apple devices in Microsoft Intune.\\n\\nOn Android devices, you can use the Microsoft Authentication Library (MSAL) to enable SSO to Android apps.\\nFor more information, go to:\\n\\nHow SSO to on-premises resources works on Microsoft Entra joined devices\\nUse the Microsoft Enterprise SSO plug-in on iOS/iPadOS and macOS devices in Microsoft Intune\\nEnable cross-app SSO on Android using MSAL\\n\\n\\n\\nRelated articles\\n\\nManage identities using Microsoft Intune\\nManage devices using Microsoft Intune\\nManage apps using Microsoft Intune\\nTroubleshoot Microsoft Intune\\nMicrosoft Intune guides at setup.cloud.microsoft\\n\\n\\n\\n\\n\\n\\n\\n\\nFeedback\\n\\n\\n\\t\\t\\t\\t\\tWas this page helpful?\\n\\t\\t\\t\\t\\n\\n\\n\\n\\n\\nYes\\n\\n\\n\\n\\n\\nNo\\n\\n\\n\\n\\n\\n\\n\\n\\n\\n\\t\\t\\t\\tAdditional resources\\n\\t\\t\\t\\n\\n\\n\\n\\n\\n\\n\\n\\n\\n\\n\\n\\nIn this article\\n\\n\\n\\nWas this page helpful?\\n\\n\\n\\n\\n\\nYes\\n\\n\\n\\n\\n\\nNo\\n\\n\\n\\n\\n\\n \\n\\n \\n\\n\\nen-us\\n\\n\\n\\n\\n\\n\\n\\n\\nYour Privacy Choices\\n\\n\\n\\n\\n\\n\\n\\nTheme\\n\\n\\n\\n\\n\\n\\n\\n\\n\\n\\n\\n\\n\\n\\n\\n\\n\\n\\n\\n\\n\\n\\n Light \\n\\n\\n\\n\\n\\n\\n\\n\\n\\n\\n\\n\\n\\n\\n\\n\\n\\n\\n Dark \\n\\n\\n\\n\\n\\n\\n\\n\\n\\n\\n\\n\\n\\n\\n\\n\\n\\n\\n High contrast \\n\\n\\n\\n\\n\\n\\n\\n\\n\\n\\nAI Disclaimer\\n\\nPrevious Versions\\n \\nBlog\\n \\nContribute\\n\\nPrivacy\\n\\nTerms of Use\\n\\nTrademarks\\n\\n© Microsoft 2025\\n\\n\\n\\n\\n\")]"
      ]
     },
     "execution_count": 7,
     "metadata": {},
     "output_type": "execute_result"
    }
   ],
   "source": [
    "docs=loader.load()\n",
    "docs"
   ]
  },
  {
   "cell_type": "code",
   "execution_count": 8,
   "id": "4e476928",
   "metadata": {},
   "outputs": [],
   "source": [
    "##splitter-- text to chunk\n",
    "from langchain_text_splitters import RecursiveCharacterTextSplitter"
   ]
  },
  {
   "cell_type": "code",
   "execution_count": 9,
   "id": "6f8476ef",
   "metadata": {},
   "outputs": [],
   "source": [
    "splitter= RecursiveCharacterTextSplitter(chunk_size=1000, chunk_overlap=200)\n",
    "documents =splitter.split_documents(docs)"
   ]
  },
  {
   "cell_type": "code",
   "execution_count": 10,
   "id": "1e1b4239",
   "metadata": {},
   "outputs": [
    {
     "data": {
      "text/plain": [
       "[Document(metadata={'source': 'https://learn.microsoft.com/en-us/intune/intune-service/fundamentals/what-is-intune', 'title': 'What is Microsoft Intune | Microsoft Learn', 'description': 'Microsoft Intune manages users and devices, simplifies app management and automated policy deployment, and integrates with mobile threat defense. It connects to Managed Google Play, Apple tokens and certificates, and Teamviewer for remote assistance. Can use MDM or MAM to protect data, configure devices, and simplify access to company resources.', 'language': 'en-us'}, page_content='What is Microsoft Intune | Microsoft Learn\\n\\n\\n\\n\\n\\n\\n\\n\\n\\n\\n\\n\\n\\n\\n\\n \\n\\n\\n\\n\\n\\n\\n\\n\\n\\n\\n\\n\\n\\n\\n\\n\\n\\n\\n\\n\\n\\n\\n\\n\\n\\n\\n\\n\\n\\n\\n\\n\\n\\n\\n\\n\\n\\n\\n\\n\\n\\n\\n\\n\\n\\n\\n\\n\\n\\n\\n\\n\\n\\n\\n\\n\\n\\n\\n\\n\\n\\n\\n\\n\\n\\n\\n\\n\\n\\n\\n\\t\\t\\tSkip to main content\\n\\t\\t\\n\\n\\t\\t\\tSkip to Ask Learn chat experience\\n\\t\\t\\n\\n\\n\\n\\nThis browser is no longer supported.\\n\\n\\t\\t\\t\\t\\t\\tUpgrade to Microsoft Edge to take advantage of the latest features, security updates, and technical support.\\n\\t\\t\\t\\t\\t\\n\\n\\n\\t\\t\\t\\t\\t\\t\\tDownload Microsoft Edge\\n\\t\\t\\t\\t\\t\\t\\n\\n\\t\\t\\t\\t\\t\\t\\tMore info about Internet Explorer and Microsoft Edge\\n\\t\\t\\t\\t\\t\\t\\n\\n\\n\\n\\n\\n\\n\\n\\n\\n\\n\\n\\n\\n\\n\\n\\n\\n\\n\\n\\n\\n\\n\\n\\n\\n\\n Table of contents \\n\\n\\n\\nExit focus mode\\n\\n\\n\\n\\n\\n\\n\\n\\n\\n\\n\\n\\n\\n\\n\\n\\n\\n\\n\\n\\n\\n\\n\\n\\n\\n\\nAsk Learn\\n\\n\\n\\n\\n\\nAsk Learn\\n\\n\\n\\n\\n\\n\\n\\n\\n\\n\\n\\n\\nTable of contents\\n\\n\\n\\n\\n\\nRead in English\\n\\n\\n\\n\\n\\nAdd\\n\\n\\n\\n\\n\\nAdd to plan\\n\\n\\n\\n\\n\\nEdit\\n\\n\\nShare via\\n\\n\\n\\n\\nFacebook\\n\\n\\n\\n\\n\\nx.com\\n\\n\\n\\n\\n\\nLinkedIn\\n\\n\\n\\n\\n\\nEmail\\n\\n\\n\\n\\n\\n\\nPrint\\n\\n\\n\\n\\n\\n\\n\\n\\n\\n\\n\\n\\n\\n\\n\\n\\nNote\\n\\n\\n\\t\\t\\t\\t\\t\\tAccess to this page requires authorization. You can try signing in or changing directories.\\n\\t\\t\\t\\t\\t\\n\\n\\t\\t\\t\\t\\t\\tAccess to this page requires authorization. You can try changing directories.'),\n",
       " Document(metadata={'source': 'https://learn.microsoft.com/en-us/intune/intune-service/fundamentals/what-is-intune', 'title': 'What is Microsoft Intune | Microsoft Learn', 'description': 'Microsoft Intune manages users and devices, simplifies app management and automated policy deployment, and integrates with mobile threat defense. It connects to Managed Google Play, Apple tokens and certificates, and Teamviewer for remote assistance. Can use MDM or MAM to protect data, configure devices, and simplify access to company resources.', 'language': 'en-us'}, page_content='Access to this page requires authorization. You can try signing in or changing directories.\\n\\t\\t\\t\\t\\t\\n\\n\\t\\t\\t\\t\\t\\tAccess to this page requires authorization. You can try changing directories.\\n\\t\\t\\t\\t\\t\\n\\n\\n\\nMicrosoft Intune securely manages identities, manages apps, and manages devices\\n\\n\\n\\n\\n\\n\\t\\t\\t\\t2025-04-30\\n\\t\\t\\t\\n\\n\\n\\n\\n\\n\\n\\n\\nFeedback\\n\\n\\n\\n\\n\\n\\t\\t\\t\\tIn this article'),\n",
       " Document(metadata={'source': 'https://learn.microsoft.com/en-us/intune/intune-service/fundamentals/what-is-intune', 'title': 'What is Microsoft Intune | Microsoft Learn', 'description': 'Microsoft Intune manages users and devices, simplifies app management and automated policy deployment, and integrates with mobile threat defense. It connects to Managed Google Play, Apple tokens and certificates, and Teamviewer for remote assistance. Can use MDM or MAM to protect data, configure devices, and simplify access to company resources.', 'language': 'en-us'}, page_content=\"Microsoft Intune securely manages identities, manages apps, and manages devices\\n\\n\\n\\n\\n\\n\\t\\t\\t\\t2025-04-30\\n\\t\\t\\t\\n\\n\\n\\n\\n\\n\\n\\n\\nFeedback\\n\\n\\n\\n\\n\\n\\t\\t\\t\\tIn this article\\n\\t\\t\\t\\n\\nAs organizations support hybrid and remote workforces, they're challenged with managing the different devices that access organization resources. Employees and students need to collaborate, work from anywhere, and securely access and connect to these resources. Admins need to protect organization data, manage end user access, and support users from wherever they work.\\n✅ To help with these challenges and tasks, use Microsoft Intune.\\nMicrosoft Intune is a cloud-based endpoint management solution. It manages user access to organizational resources and simplifies app and device management across your many devices, including mobile devices, desktop computers, and virtual endpoints.\"),\n",
       " Document(metadata={'source': 'https://learn.microsoft.com/en-us/intune/intune-service/fundamentals/what-is-intune', 'title': 'What is Microsoft Intune | Microsoft Learn', 'description': 'Microsoft Intune manages users and devices, simplifies app management and automated policy deployment, and integrates with mobile threat defense. It connects to Managed Google Play, Apple tokens and certificates, and Teamviewer for remote assistance. Can use MDM or MAM to protect data, configure devices, and simplify access to company resources.', 'language': 'en-us'}, page_content='You can protect access and data on organization-owned and users personal devices. And, Intune has compliance and reporting features that support the Zero Trust security model.\\n\\nThis article lists some features and benefits of Microsoft Intune.\\n\\nTip\\n\\nTo get Intune, go to Licenses available for Microsoft Intune and Intune 30-day trial.\\nFor more information on the Intune licensing plans, go to Microsoft Intune capabilities and plans.\\nFor information on what it means to be cloud-native, go to Learn more about cloud-native endpoints.'),\n",
       " Document(metadata={'source': 'https://learn.microsoft.com/en-us/intune/intune-service/fundamentals/what-is-intune', 'title': 'What is Microsoft Intune | Microsoft Learn', 'description': 'Microsoft Intune manages users and devices, simplifies app management and automated policy deployment, and integrates with mobile threat defense. It connects to Managed Google Play, Apple tokens and certificates, and Teamviewer for remote assistance. Can use MDM or MAM to protect data, configure devices, and simplify access to company resources.', 'language': 'en-us'}, page_content='Key features and benefits\\nSome key features and benefits of Intune include:\\n✅ Manage users and devices\\nWith Intune, you can manage devices owned by your organization and devices owned by your end users. Microsoft Intune supports Android, Android Open Source Project (AOSP), iOS/iPadOS, Linux Ubuntu Desktop, macOS, and Windows client devices. With Intune, you can use these devices to securely access organization resources with policies you create.\\nFor more information, go to:\\n\\nManage identities using Microsoft Intune\\nManage devices using Microsoft Intune\\nSupported operating systems in Microsoft Intune\\n\\n\\nNote\\nIf you manage on-premises Windows Server, you can use Configuration Manager.\\n\\n✅ Simplify app management\\nIntune has a built-in app experience, including app deployment, updates, and removal. You can:'),\n",
       " Document(metadata={'source': 'https://learn.microsoft.com/en-us/intune/intune-service/fundamentals/what-is-intune', 'title': 'What is Microsoft Intune | Microsoft Learn', 'description': 'Microsoft Intune manages users and devices, simplifies app management and automated policy deployment, and integrates with mobile threat defense. It connects to Managed Google Play, Apple tokens and certificates, and Teamviewer for remote assistance. Can use MDM or MAM to protect data, configure devices, and simplify access to company resources.', 'language': 'en-us'}, page_content='✅ Simplify app management\\nIntune has a built-in app experience, including app deployment, updates, and removal. You can:\\n\\nConnect to and distribute apps from your private app stores.\\nEnable Microsoft 365 apps, including Microsoft Teams.\\nDeploy Win32 and line-of-business (LOB) apps.\\nCreate app protection policies that protect data within an app.\\nManage access to apps & their data.'),\n",
       " Document(metadata={'source': 'https://learn.microsoft.com/en-us/intune/intune-service/fundamentals/what-is-intune', 'title': 'What is Microsoft Intune | Microsoft Learn', 'description': 'Microsoft Intune manages users and devices, simplifies app management and automated policy deployment, and integrates with mobile threat defense. It connects to Managed Google Play, Apple tokens and certificates, and Teamviewer for remote assistance. Can use MDM or MAM to protect data, configure devices, and simplify access to company resources.', 'language': 'en-us'}, page_content='For more information, go to Manage apps using Microsoft Intune.\\n✅ Automate policy deployment\\nYou can create policies for apps, security, device configuration, compliance, Conditional Access, and more. When the policies are ready, you can deploy these policies to your user groups and device groups. To receive these policies, the devices only need internet access.\\nFor more information, go to Assign policies in Microsoft Intune.\\n✅ Use the self-service features\\nEmployees and students can use the Company Portal app and website to reset a PIN/password, install apps, join groups, and more. You can customize the Company Portal to help reduce support calls.\\nFor more information, go to Configure the Intune Company Portal apps, Company Portal website, and Intune app.\\n✅ Integrate with mobile threat defense'),\n",
       " Document(metadata={'source': 'https://learn.microsoft.com/en-us/intune/intune-service/fundamentals/what-is-intune', 'title': 'What is Microsoft Intune | Microsoft Learn', 'description': 'Microsoft Intune manages users and devices, simplifies app management and automated policy deployment, and integrates with mobile threat defense. It connects to Managed Google Play, Apple tokens and certificates, and Teamviewer for remote assistance. Can use MDM or MAM to protect data, configure devices, and simplify access to company resources.', 'language': 'en-us'}, page_content='For more information, go to Configure the Intune Company Portal apps, Company Portal website, and Intune app.\\n✅ Integrate with mobile threat defense\\nIntune integrates with Microsoft Defender for Endpoint and third party partner services. With these services, the focus is on endpoint security. You can create policies that respond to threats, do real-time risk analysis, and automate remediation.\\nFor more information, go to Mobile Threat Defense integration with Intune.\\n✅ Use a web-based admin center\\nThe Intune admin center focuses on endpoint management, including data-driven reporting. Admins can sign into the admin center from any device that has internet access.\\nFor more information, go to Walkthrough the Intune admin center. To sign in to the admin center, go to Microsoft Intune admin center.'),\n",
       " Document(metadata={'source': 'https://learn.microsoft.com/en-us/intune/intune-service/fundamentals/what-is-intune', 'title': 'What is Microsoft Intune | Microsoft Learn', 'description': 'Microsoft Intune manages users and devices, simplifies app management and automated policy deployment, and integrates with mobile threat defense. It connects to Managed Google Play, Apple tokens and certificates, and Teamviewer for remote assistance. Can use MDM or MAM to protect data, configure devices, and simplify access to company resources.', 'language': 'en-us'}, page_content=\"For more information, go to Walkthrough the Intune admin center. To sign in to the admin center, go to Microsoft Intune admin center.\\nThis admin center uses Microsoft Graph REST APIs to programmatically access the Intune service. Every action in the admin center is a Microsoft Graph call. If you're not familiar with Graph, and want to learn more, go to Graph integrates with Microsoft Intune.\\n✅ Advanced endpoint management and security\\nThe Microsoft Intune Suite offers different features, like Remote Help, Endpoint Privilege Management, Microsoft Tunnel for MAM, and more.\\nFor more information, go to Intune Suite add-on features.\"),\n",
       " Document(metadata={'source': 'https://learn.microsoft.com/en-us/intune/intune-service/fundamentals/what-is-intune', 'title': 'What is Microsoft Intune | Microsoft Learn', 'description': 'Microsoft Intune manages users and devices, simplifies app management and automated policy deployment, and integrates with mobile threat defense. It connects to Managed Google Play, Apple tokens and certificates, and Teamviewer for remote assistance. Can use MDM or MAM to protect data, configure devices, and simplify access to company resources.', 'language': 'en-us'}, page_content='Tip\\nStep through a training module to learn how you can benefit from modern endpoint management with Microsoft Intune.\\n\\n✅ Use Microsoft Copilot in Intune for AI-generated analysis\\nCopilot in Intune is available and has capabilities that are powered by Security Copilot.\\nCopilot can summarize existing policies, give you more setting information, including recommended values and potential conflicts. You can also get device details and troubleshoot a device.\\nFor more information, go to Microsoft Copilot in Intune.\\nIntegrates with other Microsoft services and apps\\nMicrosoft Intune integrates with other Microsoft products and services that focus on endpoint management, including:'),\n",
       " Document(metadata={'source': 'https://learn.microsoft.com/en-us/intune/intune-service/fundamentals/what-is-intune', 'title': 'What is Microsoft Intune | Microsoft Learn', 'description': 'Microsoft Intune manages users and devices, simplifies app management and automated policy deployment, and integrates with mobile threat defense. It connects to Managed Google Play, Apple tokens and certificates, and Teamviewer for remote assistance. Can use MDM or MAM to protect data, configure devices, and simplify access to company resources.', 'language': 'en-us'}, page_content='Configuration Manager for on-premises endpoint management and Windows Server, including deploying software updates and managing data centers\\nYou can use Intune and Configuration Manager together in a co-management scenario, use tenant attach, or use both. With these options, you get the benefits of the web-based admin center and can use other cloud-based features available in Intune.\\nFor more specific information, go to:\\n\\nWhat is co-management\\nFrequently asked questions about co-management\\nHow to enable tenant attach\\n\\n\\nWindows Autopilot for modern OS deployment and provisioning\\nWith Windows Autopilot, you can provision new devices and send these devices directly to users from an OEM or device provider. For existing devices, you can reimage these devices to use Windows Autopilot and deploy the latest Windows version.\\nFor more specific information, go to:\\n\\nWindows Autopilot overview\\nWindows Autopilot deployment for existing devices'),\n",
       " Document(metadata={'source': 'https://learn.microsoft.com/en-us/intune/intune-service/fundamentals/what-is-intune', 'title': 'What is Microsoft Intune | Microsoft Learn', 'description': 'Microsoft Intune manages users and devices, simplifies app management and automated policy deployment, and integrates with mobile threat defense. It connects to Managed Google Play, Apple tokens and certificates, and Teamviewer for remote assistance. Can use MDM or MAM to protect data, configure devices, and simplify access to company resources.', 'language': 'en-us'}, page_content='Windows Autopilot overview\\nWindows Autopilot deployment for existing devices\\n\\n\\nEndpoint analytics for visibility and reporting on end user experiences, including device performance and reliability\\nYou can use Endpoint analytics to help identify policies or hardware issues that slow down devices. It also provides guidance that can help you proactively improve end user experiences and reduce help desk tickets.\\nFor more specific information, go to:\\n\\nWhat is Endpoint analytics\\nEnroll Intune devices into Endpoint analytics\\n\\n\\nMicrosoft 365 for end user productivity Office apps, including Outlook, Teams, Sharepoint, OneDrive, and more\\nUsing Intune, you can deploy Microsoft 365 apps to users and devices in your organization. You can also deploy these apps when users sign in for the first time.\\nFor more specific information, go to:\\n\\nAdd Microsoft 365 Apps to Windows 10/11 devices with Microsoft Intune\\nMicrosoft 365 docs: Manage devices with Intune'),\n",
       " Document(metadata={'source': 'https://learn.microsoft.com/en-us/intune/intune-service/fundamentals/what-is-intune', 'title': 'What is Microsoft Intune | Microsoft Learn', 'description': 'Microsoft Intune manages users and devices, simplifies app management and automated policy deployment, and integrates with mobile threat defense. It connects to Managed Google Play, Apple tokens and certificates, and Teamviewer for remote assistance. Can use MDM or MAM to protect data, configure devices, and simplify access to company resources.', 'language': 'en-us'}, page_content=\"Add Microsoft 365 Apps to Windows 10/11 devices with Microsoft Intune\\nMicrosoft 365 docs: Manage devices with Intune\\n\\n\\nMicrosoft Defender for Endpoint to help enterprises prevent, detect, investigate, and respond to threats\\nIn Intune, you can create a service-to-service connection between Intune and Microsoft Defender for Endpoint. When they're connected, you can create policies that scan files, detect threats, and report threat levels to Microsoft Defender for Endpoint. You can also create compliance policies that set an allowable level of risk. When combined with Conditional Access, you can block access to organization resources for devices that are noncompliant.\\nFor more specific information, go to:\\n\\nEnforce compliance for Microsoft Defender for Endpoint with Conditional Access in Intune\\nConfigure Microsoft Defender for Endpoint in Intune\"),\n",
       " Document(metadata={'source': 'https://learn.microsoft.com/en-us/intune/intune-service/fundamentals/what-is-intune', 'title': 'What is Microsoft Intune | Microsoft Learn', 'description': 'Microsoft Intune manages users and devices, simplifies app management and automated policy deployment, and integrates with mobile threat defense. It connects to Managed Google Play, Apple tokens and certificates, and Teamviewer for remote assistance. Can use MDM or MAM to protect data, configure devices, and simplify access to company resources.', 'language': 'en-us'}, page_content='Enforce compliance for Microsoft Defender for Endpoint with Conditional Access in Intune\\nConfigure Microsoft Defender for Endpoint in Intune\\n\\n\\nWindows Autopatch for automatic patching of Windows, Microsoft 365 apps for enterprise, Microsoft Edge, and Microsoft Teams\\nWindows Autopatch is a cloud based service. It keeps software current, gives users the latest productivity tools, minimizes on-premises infrastructure, and helps free up your IT admins to focus on other projects. Windows Autopatch uses Microsoft Intune to manage patching for Intune-enrolled devices or devices using co-management (Intune + Configuration Manager).\\nFor more specific information, go to:\\n\\nWhat is Windows Autopatch?\\nFrequently Asked Questions about Windows Autopatch\\n\\n\\n\\nIntegrates with third party partner devices and apps\\nThe Intune admin center makes it easy to connect to different partner services, including:'),\n",
       " Document(metadata={'source': 'https://learn.microsoft.com/en-us/intune/intune-service/fundamentals/what-is-intune', 'title': 'What is Microsoft Intune | Microsoft Learn', 'description': 'Microsoft Intune manages users and devices, simplifies app management and automated policy deployment, and integrates with mobile threat defense. It connects to Managed Google Play, Apple tokens and certificates, and Teamviewer for remote assistance. Can use MDM or MAM to protect data, configure devices, and simplify access to company resources.', 'language': 'en-us'}, page_content=\"Integrates with third party partner devices and apps\\nThe Intune admin center makes it easy to connect to different partner services, including:\\n\\nManaged Google Play for Android apps: When you connect to your Managed Google Play account, admins can access your organization's private store for Android apps, and deploy these apps to your devices.\\nFor more information, go to Add Managed Google Play apps to Android Enterprise devices with Intune.\\n\\nApple tokens and certificates for enrollment and apps: When they're added, your iOS/iPadOS and macOS devices can enroll in Intune and receive policies from Intune. Admins can access your volume purchased iOS/iPad and macOS app licenses, and deploy these apps to your devices.\\nFor more information, go to:\\n\\nGet an Apple MDM push certificate\\nAutomatically enroll iOS/iPadOS devices by using Apple's Automated Device Enrollment\\nManage iOS and macOS apps purchased through Apple Business Manager with Microsoft Intune\"),\n",
       " Document(metadata={'source': 'https://learn.microsoft.com/en-us/intune/intune-service/fundamentals/what-is-intune', 'title': 'What is Microsoft Intune | Microsoft Learn', 'description': 'Microsoft Intune manages users and devices, simplifies app management and automated policy deployment, and integrates with mobile threat defense. It connects to Managed Google Play, Apple tokens and certificates, and Teamviewer for remote assistance. Can use MDM or MAM to protect data, configure devices, and simplify access to company resources.', 'language': 'en-us'}, page_content='TeamViewer for remote assist: When you connect to your TeamViewer account, you can use TeamViewer to remotely assist devices.\\nFor more information, go to Use TeamViewer to remotely administer Intune devices.\\n\\n\\nWith these services, Intune:\\n\\nGives admins simplified access to third party partner app services.\\nCan manage hundreds of third party partner apps.\\nSupports public retail store apps, line of business (LOB) apps, private apps not available in the public store, custom apps, and more.\\n\\nFor more platform-specific requirements to enroll third party partner devices in Intune, go to:\\n\\nDeployment guide: Enroll Android devices in Microsoft Intune\\nDeployment guide: Enroll iOS and iPadOS devices in Microsoft Intune\\nDeployment guide: Enroll Linux devices in Microsoft Intune\\nDeployment guide: Enroll macOS devices in Microsoft Intune'),\n",
       " Document(metadata={'source': 'https://learn.microsoft.com/en-us/intune/intune-service/fundamentals/what-is-intune', 'title': 'What is Microsoft Intune | Microsoft Learn', 'description': 'Microsoft Intune manages users and devices, simplifies app management and automated policy deployment, and integrates with mobile threat defense. It connects to Managed Google Play, Apple tokens and certificates, and Teamviewer for remote assistance. Can use MDM or MAM to protect data, configure devices, and simplify access to company resources.', 'language': 'en-us'}, page_content=\"Enroll in device management, application management, or both\\n✅ Organization-owned devices are enrolled in Intune for mobile device management (MDM). MDM is device centric, so device features are configured based on who needs them. For example, you can configure a device to allow access to Wi-Fi, but only if the signed-in user is an organization account.\\nIn Intune, you create policies that configure features & settings and provide security & protection. Your admin team fully manages the devices, including the user identities that sign in, the apps that are installed, and the data that's accessed.\\nWhen devices enroll, you can deploy your policies during the enrollment process. When enrollment completes, the device is ready to use.\"),\n",
       " Document(metadata={'source': 'https://learn.microsoft.com/en-us/intune/intune-service/fundamentals/what-is-intune', 'title': 'What is Microsoft Intune | Microsoft Learn', 'description': 'Microsoft Intune manages users and devices, simplifies app management and automated policy deployment, and integrates with mobile threat defense. It connects to Managed Google Play, Apple tokens and certificates, and Teamviewer for remote assistance. Can use MDM or MAM to protect data, configure devices, and simplify access to company resources.', 'language': 'en-us'}, page_content=\"When devices enroll, you can deploy your policies during the enrollment process. When enrollment completes, the device is ready to use.\\n✅ For personal devices in bring-your-own-device (BYOD) scenarios, you can use Intune for mobile application management (MAM). MAM is user centric, so the app data is protected regardless of the device used to access this data. There's a focus on apps, including securely accessing apps and protecting data within the apps.\\nWith MAM, you can:\"),\n",
       " Document(metadata={'source': 'https://learn.microsoft.com/en-us/intune/intune-service/fundamentals/what-is-intune', 'title': 'What is Microsoft Intune | Microsoft Learn', 'description': 'Microsoft Intune manages users and devices, simplifies app management and automated policy deployment, and integrates with mobile threat defense. It connects to Managed Google Play, Apple tokens and certificates, and Teamviewer for remote assistance. Can use MDM or MAM to protect data, configure devices, and simplify access to company resources.', 'language': 'en-us'}, page_content='Publish mobile apps to users.\\nConfigure apps and automatically update apps.\\nView data reports that focus on app inventory and app usage.\\n\\n✅ You can also use MDM and MAM together. If your devices are enrolled and there are apps that need extra security, then you can also use MAM app protection policies.\\nFor more information, go to:\\n\\nDevice enrollment in Intune?\\nApp protection policies overview\\n\\nProtect data on any device\\nWith Intune, you can protect data on managed devices (enrolled in Intune) and protect data on unmanaged devices (not enrolled in Intune). Intune can isolate organization data from personal data. The idea is to protect your company information using policies that you configure and deploy.\\nFor organization-owned devices, you want full control over the devices, especially security. When devices enroll, they receive your security rules and settings.\\nOn devices enrolled in Intune, you can:'),\n",
       " Document(metadata={'source': 'https://learn.microsoft.com/en-us/intune/intune-service/fundamentals/what-is-intune', 'title': 'What is Microsoft Intune | Microsoft Learn', 'description': 'Microsoft Intune manages users and devices, simplifies app management and automated policy deployment, and integrates with mobile threat defense. It connects to Managed Google Play, Apple tokens and certificates, and Teamviewer for remote assistance. Can use MDM or MAM to protect data, configure devices, and simplify access to company resources.', 'language': 'en-us'}, page_content=\"Create and deploy policies that configure security settings, set password requirements, deploy certificates, and more.\\nUse mobile threat defense services to scan devices, detect threats, and remediate threats.\\nView data and reports that measure compliance with your security settings and rules.\\nUse Conditional Access to only allow managed and compliant devices access to organization resources, apps, and data.\\nRemove organization data if a device is lost or stolen.\\n\\nFor personal devices, users might not want their IT admins to have full control. To support a hybrid work environment, give users options. For example, users enroll their devices if they want full access to your organization's resources. Or, if these users only want access to Outlook or Microsoft Teams, then use app protection policies that require multifactor authentication (MFA).\\nOn devices using application management, you can:\"),\n",
       " Document(metadata={'source': 'https://learn.microsoft.com/en-us/intune/intune-service/fundamentals/what-is-intune', 'title': 'What is Microsoft Intune | Microsoft Learn', 'description': 'Microsoft Intune manages users and devices, simplifies app management and automated policy deployment, and integrates with mobile threat defense. It connects to Managed Google Play, Apple tokens and certificates, and Teamviewer for remote assistance. Can use MDM or MAM to protect data, configure devices, and simplify access to company resources.', 'language': 'en-us'}, page_content='Use mobile threat defense services to protect app data. The service can scan devices, detect threats, and assess risk.\\nPrevent organization data from being copied and pasted into personal apps.\\nUse app protection policies on apps and on unmanaged devices enrolled in a third party or partner MDM.\\nUse Conditional Access to restrict the apps that can access organization email and files.\\nRemove organization data within apps.\\n\\nFor more information, go to:\\n\\nProtect data and devices with Microsoft Intune\\nMobile Threat Defense integration with Intune'),\n",
       " Document(metadata={'source': 'https://learn.microsoft.com/en-us/intune/intune-service/fundamentals/what-is-intune', 'title': 'What is Microsoft Intune | Microsoft Learn', 'description': 'Microsoft Intune manages users and devices, simplifies app management and automated policy deployment, and integrates with mobile threat defense. It connects to Managed Google Play, Apple tokens and certificates, and Teamviewer for remote assistance. Can use MDM or MAM to protect data, configure devices, and simplify access to company resources.', 'language': 'en-us'}, page_content='For more information, go to:\\n\\nProtect data and devices with Microsoft Intune\\nMobile Threat Defense integration with Intune\\n\\nSimplify access\\nIntune helps organizations support employees who can work from anywhere. There are features you can configure that allow users to connect to an organization, wherever they might be.\\nThis section includes some common features that you can configure in Intune.\\nUse Windows Hello for Business instead of passwords\\nWindows Hello for Business helps protect against phishing attacks and other security threats. It also helps users sign in to their devices and apps more quickly and easily.\\nWindows Hello for Business replaces passwords with a PIN or biometric, such as fingerprint or facial recognition. This biometric information is stored locally on the devices and is never sent to external devices or servers.\\nFor more information, go to:'),\n",
       " Document(metadata={'source': 'https://learn.microsoft.com/en-us/intune/intune-service/fundamentals/what-is-intune', 'title': 'What is Microsoft Intune | Microsoft Learn', 'description': 'Microsoft Intune manages users and devices, simplifies app management and automated policy deployment, and integrates with mobile threat defense. It connects to Managed Google Play, Apple tokens and certificates, and Teamviewer for remote assistance. Can use MDM or MAM to protect data, configure devices, and simplify access to company resources.', 'language': 'en-us'}, page_content=\"Get an overview Windows Hello for Business\\nManage Windows Hello for Business on devices when they enroll in Intune\\nManage identities using Microsoft Intune\\n\\nCreate a VPN connection for remote users\\nVPN policies give users secure remote access to your organization network.\\nUsing common VPN connection partners, including Check Point, Cisco, Microsoft Tunnel, NetMotion, Pulse Secure, and more, you can create a VPN policy with your network settings. When the policy is ready, you deploy this policy to your users and devices that need to connect to your network remotely.\\nIn the VPN policy, you can use certificates to authenticate the VPN connection. When you use certificates, your end users don't need to enter usernames and passwords.\\nFor more information, go to:\\n\\nCreate VPN profiles to connect to VPN servers in Intune\\nUse certificates for authentication in Intune\\nLearn more about Microsoft Tunnel for Intune\\nUse Microsoft Tunnel for MAM\"),\n",
       " Document(metadata={'source': 'https://learn.microsoft.com/en-us/intune/intune-service/fundamentals/what-is-intune', 'title': 'What is Microsoft Intune | Microsoft Learn', 'description': 'Microsoft Intune manages users and devices, simplifies app management and automated policy deployment, and integrates with mobile threat defense. It connects to Managed Google Play, Apple tokens and certificates, and Teamviewer for remote assistance. Can use MDM or MAM to protect data, configure devices, and simplify access to company resources.', 'language': 'en-us'}, page_content=\"Create VPN profiles to connect to VPN servers in Intune\\nUse certificates for authentication in Intune\\nLearn more about Microsoft Tunnel for Intune\\nUse Microsoft Tunnel for MAM\\n\\nCreate a Wi-Fi connection for on-premises users\\nFor users who need to connect to your organization network on-premises, you can create a Wi-Fi policy with your network settings. You can connect to a specific SSID, select an authentication method, use a proxy, and more. You can also configure the policy to automatically connect to Wi-Fi when the device is in range.\\nIn the Wi-Fi policy, you can use certificates to authenticate the Wi-Fi connection. When you use certificates, your end users don't need to enter usernames and passwords.\\nWhen the policy is ready, you deploy this policy to your on-premises users and devices that need to connect to your on-premises network.\\nFor more information, go to:\\n\\nCreate Wi-Fi policy to connect to Wi-Fi networks in Intune\\nUse certificates for authentication in Microsoft Intune\"),\n",
       " Document(metadata={'source': 'https://learn.microsoft.com/en-us/intune/intune-service/fundamentals/what-is-intune', 'title': 'What is Microsoft Intune | Microsoft Learn', 'description': 'Microsoft Intune manages users and devices, simplifies app management and automated policy deployment, and integrates with mobile threat defense. It connects to Managed Google Play, Apple tokens and certificates, and Teamviewer for remote assistance. Can use MDM or MAM to protect data, configure devices, and simplify access to company resources.', 'language': 'en-us'}, page_content='Create Wi-Fi policy to connect to Wi-Fi networks in Intune\\nUse certificates for authentication in Microsoft Intune\\n\\nEnable single sign-on (SSO) to your apps and services\\nWhen you enable SSO, users can automatically sign in to apps and services using their Microsoft Entra organization account, including some mobile threat defense partner apps.\\nSpecifically:\\n\\nOn Windows devices, SSO is automatically built in and used to sign in to apps and websites that use Microsoft Entra ID for authentication, including Microsoft 365 apps. You can also enable SSO on VPN and Wi-Fi policies.\\n\\nOn iOS/iPadOS and macOS devices, you can use the Microsoft Enterprise SSO plug-in to automatically sign in to apps and websites that use Microsoft Entra ID for authentication, including Microsoft 365 apps.\\nFor more information, go to Single sign-on (SSO) overview and options for Apple devices in Microsoft Intune.'),\n",
       " Document(metadata={'source': 'https://learn.microsoft.com/en-us/intune/intune-service/fundamentals/what-is-intune', 'title': 'What is Microsoft Intune | Microsoft Learn', 'description': 'Microsoft Intune manages users and devices, simplifies app management and automated policy deployment, and integrates with mobile threat defense. It connects to Managed Google Play, Apple tokens and certificates, and Teamviewer for remote assistance. Can use MDM or MAM to protect data, configure devices, and simplify access to company resources.', 'language': 'en-us'}, page_content='On Android devices, you can use the Microsoft Authentication Library (MSAL) to enable SSO to Android apps.\\nFor more information, go to:\\n\\nHow SSO to on-premises resources works on Microsoft Entra joined devices\\nUse the Microsoft Enterprise SSO plug-in on iOS/iPadOS and macOS devices in Microsoft Intune\\nEnable cross-app SSO on Android using MSAL\\n\\n\\n\\nRelated articles\\n\\nManage identities using Microsoft Intune\\nManage devices using Microsoft Intune\\nManage apps using Microsoft Intune\\nTroubleshoot Microsoft Intune\\nMicrosoft Intune guides at setup.cloud.microsoft\\n\\n\\n\\n\\n\\n\\n\\n\\nFeedback\\n\\n\\n\\t\\t\\t\\t\\tWas this page helpful?\\n\\t\\t\\t\\t\\n\\n\\n\\n\\n\\nYes\\n\\n\\n\\n\\n\\nNo\\n\\n\\n\\n\\n\\n\\n\\n\\n\\n\\t\\t\\t\\tAdditional resources\\n\\t\\t\\t\\n\\n\\n\\n\\n\\n\\n\\n\\n\\n\\n\\n\\nIn this article\\n\\n\\n\\nWas this page helpful?\\n\\n\\n\\n\\n\\nYes\\n\\n\\n\\n\\n\\nNo\\n\\n\\n\\n\\n\\n \\n\\n \\n\\n\\nen-us\\n\\n\\n\\n\\n\\n\\n\\n\\nYour Privacy Choices\\n\\n\\n\\n\\n\\n\\n\\nTheme\\n\\n\\n\\n\\n\\n\\n\\n\\n\\n\\n\\n\\n\\n\\n\\n\\n\\n\\n\\n\\n\\n\\n Light \\n\\n\\n\\n\\n\\n\\n\\n\\n\\n\\n\\n\\n\\n\\n\\n\\n\\n\\n Dark \\n\\n\\n\\n\\n\\n\\n\\n\\n\\n\\n\\n\\n\\n\\n\\n\\n\\n\\n High contrast \\n\\n\\n\\n\\n\\n\\n\\n\\n\\n\\nAI Disclaimer\\n\\nPrevious Versions\\n \\nBlog\\n \\nContribute\\n\\nPrivacy\\n\\nTerms of Use\\n\\nTrademarks'),\n",
       " Document(metadata={'source': 'https://learn.microsoft.com/en-us/intune/intune-service/fundamentals/what-is-intune', 'title': 'What is Microsoft Intune | Microsoft Learn', 'description': 'Microsoft Intune manages users and devices, simplifies app management and automated policy deployment, and integrates with mobile threat defense. It connects to Managed Google Play, Apple tokens and certificates, and Teamviewer for remote assistance. Can use MDM or MAM to protect data, configure devices, and simplify access to company resources.', 'language': 'en-us'}, page_content='Theme\\n\\n\\n\\n\\n\\n\\n\\n\\n\\n\\n\\n\\n\\n\\n\\n\\n\\n\\n\\n\\n\\n\\n Light \\n\\n\\n\\n\\n\\n\\n\\n\\n\\n\\n\\n\\n\\n\\n\\n\\n\\n\\n Dark \\n\\n\\n\\n\\n\\n\\n\\n\\n\\n\\n\\n\\n\\n\\n\\n\\n\\n\\n High contrast \\n\\n\\n\\n\\n\\n\\n\\n\\n\\n\\nAI Disclaimer\\n\\nPrevious Versions\\n \\nBlog\\n \\nContribute\\n\\nPrivacy\\n\\nTerms of Use\\n\\nTrademarks\\n\\n© Microsoft 2025')]"
      ]
     },
     "execution_count": 10,
     "metadata": {},
     "output_type": "execute_result"
    }
   ],
   "source": [
    "documents"
   ]
  },
  {
   "cell_type": "code",
   "execution_count": 11,
   "id": "dc92bdef",
   "metadata": {},
   "outputs": [],
   "source": [
    "##vector\n",
    "#use embedding tech>>vector db\n",
    "\n",
    "from langchain_openai import OpenAIEmbeddings\n",
    "embeddings = OpenAIEmbeddings()\n",
    "from langchain_community.vectorstores import FAISS\n",
    "vectorstoredb = FAISS.from_documents(documents, embedding=embeddings)"
   ]
  },
  {
   "cell_type": "code",
   "execution_count": 12,
   "id": "103def8f",
   "metadata": {},
   "outputs": [
    {
     "data": {
      "text/plain": [
       "<langchain_community.vectorstores.faiss.FAISS at 0x1e917f88410>"
      ]
     },
     "execution_count": 12,
     "metadata": {},
     "output_type": "execute_result"
    }
   ],
   "source": [
    "vectorstoredb"
   ]
  },
  {
   "cell_type": "code",
   "execution_count": 13,
   "id": "1a9eb596",
   "metadata": {},
   "outputs": [
    {
     "data": {
      "text/plain": [
       "'For more information, go to Manage apps using Microsoft Intune.\\n✅ Automate policy deployment\\nYou can create policies for apps, security, device configuration, compliance, Conditional Access, and more. When the policies are ready, you can deploy these policies to your user groups and device groups. To receive these policies, the devices only need internet access.\\nFor more information, go to Assign policies in Microsoft Intune.\\n✅ Use the self-service features\\nEmployees and students can use the Company Portal app and website to reset a PIN/password, install apps, join groups, and more. You can customize the Company Portal to help reduce support calls.\\nFor more information, go to Configure the Intune Company Portal apps, Company Portal website, and Intune app.\\n✅ Integrate with mobile threat defense'"
      ]
     },
     "execution_count": 13,
     "metadata": {},
     "output_type": "execute_result"
    }
   ],
   "source": [
    "#query from vectorstore DB\n",
    "query= \"What is self-service features?\"\n",
    "result= vectorstoredb.similarity_search(query)\n",
    "result[0].page_content"
   ]
  },
  {
   "cell_type": "code",
   "execution_count": 14,
   "id": "6e750355",
   "metadata": {},
   "outputs": [],
   "source": [
    "#retrieval chain, document chain\n",
    "from langchain.chains.combine_documents  import create_stuff_documents_chain\n",
    "from langchain_openai import ChatOpenAI\n",
    "llm= ChatOpenAI(model=\"gpt-4o\")\n"
   ]
  },
  {
   "cell_type": "code",
   "execution_count": 15,
   "id": "6db32c49",
   "metadata": {},
   "outputs": [],
   "source": [
    "from langchain_core.prompts import ChatPromptTemplate\n",
    "prompt = ChatPromptTemplate.from_template(\n",
    "    (\"\"\"\n",
    "    \n",
    "    Answer the following question based on following context:\n",
    "    <context>\n",
    "    {context}\n",
    "    </context>\n",
    "    \n",
    "    \n",
    "    \"\"\")\n",
    ")\n",
    "\n",
    "document_chain = create_stuff_documents_chain(llm, prompt)"
   ]
  },
  {
   "cell_type": "code",
   "execution_count": 16,
   "id": "51e88195",
   "metadata": {},
   "outputs": [
    {
     "data": {
      "text/plain": [
       "RunnableBinding(bound=RunnableBinding(bound=RunnableAssign(mapper={\n",
       "  context: RunnableLambda(format_docs)\n",
       "}), kwargs={}, config={'run_name': 'format_inputs'}, config_factories=[])\n",
       "| ChatPromptTemplate(input_variables=['context'], input_types={}, partial_variables={}, messages=[HumanMessagePromptTemplate(prompt=PromptTemplate(input_variables=['context'], input_types={}, partial_variables={}, template='\\n\\n    Answer the following question based on following context:\\n    <context>\\n    {context}\\n    </context>\\n\\n\\n    '), additional_kwargs={})])\n",
       "| ChatOpenAI(client=<openai.resources.chat.completions.completions.Completions object at 0x000001E944114C50>, async_client=<openai.resources.chat.completions.completions.AsyncCompletions object at 0x000001E944115A10>, root_client=<openai.OpenAI object at 0x000001E944114690>, root_async_client=<openai.AsyncOpenAI object at 0x000001E944115690>, model_name='gpt-4o', model_kwargs={}, openai_api_key=SecretStr('**********'))\n",
       "| StrOutputParser(), kwargs={}, config={'run_name': 'stuff_documents_chain'}, config_factories=[])"
      ]
     },
     "execution_count": 16,
     "metadata": {},
     "output_type": "execute_result"
    }
   ],
   "source": [
    "document_chain"
   ]
  },
  {
   "cell_type": "code",
   "execution_count": 17,
   "id": "d99b557b",
   "metadata": {},
   "outputs": [
    {
     "data": {
      "text/plain": [
       "'What does Intune focus on when integrating with Microsoft Defender for Endpoint and third-party partner services?'"
      ]
     },
     "execution_count": 17,
     "metadata": {},
     "output_type": "execute_result"
    }
   ],
   "source": [
    "\n",
    "from langchain_core.documents import Document\n",
    "\n",
    "\n",
    "document_chain.invoke(\n",
    "    {\n",
    "        \"input\": \"Intune policies are applied to how many device platform?\",\n",
    "        \"context\" : [Document(page_content=\"Intune integrates with Microsoft Defender for Endpoint and third party partner services. With these services, the focus is on endpoint security. You can create policies that respond to threats, do real-time risk analysis, and automate remediation.\")]\n",
    "    }\n",
    ")\n"
   ]
  },
  {
   "cell_type": "code",
   "execution_count": 18,
   "id": "20b8e00d",
   "metadata": {},
   "outputs": [],
   "source": [
    "##retriever---can be consider as an interface and responsible for way getting a data from vectorstore DB--pathway\n",
    "\n",
    "retriever= vectorstoredb.as_retriever()"
   ]
  },
  {
   "cell_type": "code",
   "execution_count": 19,
   "id": "2043bf30",
   "metadata": {},
   "outputs": [],
   "source": [
    "from langchain.chains import create_retrieval_chain\n",
    "retriever_chain  = create_retrieval_chain(retriever, document_chain)"
   ]
  },
  {
   "cell_type": "code",
   "execution_count": 20,
   "id": "c3973986",
   "metadata": {},
   "outputs": [
    {
     "data": {
      "text/plain": [
       "RunnableBinding(bound=RunnableAssign(mapper={\n",
       "  context: RunnableBinding(bound=RunnableLambda(lambda x: x['input'])\n",
       "           | VectorStoreRetriever(tags=['FAISS', 'OpenAIEmbeddings'], vectorstore=<langchain_community.vectorstores.faiss.FAISS object at 0x000001E917F88410>, search_kwargs={}), kwargs={}, config={'run_name': 'retrieve_documents'}, config_factories=[])\n",
       "})\n",
       "| RunnableAssign(mapper={\n",
       "    answer: RunnableBinding(bound=RunnableBinding(bound=RunnableAssign(mapper={\n",
       "              context: RunnableLambda(format_docs)\n",
       "            }), kwargs={}, config={'run_name': 'format_inputs'}, config_factories=[])\n",
       "            | ChatPromptTemplate(input_variables=['context'], input_types={}, partial_variables={}, messages=[HumanMessagePromptTemplate(prompt=PromptTemplate(input_variables=['context'], input_types={}, partial_variables={}, template='\\n\\n    Answer the following question based on following context:\\n    <context>\\n    {context}\\n    </context>\\n\\n\\n    '), additional_kwargs={})])\n",
       "            | ChatOpenAI(client=<openai.resources.chat.completions.completions.Completions object at 0x000001E944114C50>, async_client=<openai.resources.chat.completions.completions.AsyncCompletions object at 0x000001E944115A10>, root_client=<openai.OpenAI object at 0x000001E944114690>, root_async_client=<openai.AsyncOpenAI object at 0x000001E944115690>, model_name='gpt-4o', model_kwargs={}, openai_api_key=SecretStr('**********'))\n",
       "            | StrOutputParser(), kwargs={}, config={'run_name': 'stuff_documents_chain'}, config_factories=[])\n",
       "  }), kwargs={}, config={'run_name': 'retrieval_chain'}, config_factories=[])"
      ]
     },
     "execution_count": 20,
     "metadata": {},
     "output_type": "execute_result"
    }
   ],
   "source": [
    "retriever_chain"
   ]
  },
  {
   "cell_type": "code",
   "execution_count": 21,
   "id": "2241a17d",
   "metadata": {},
   "outputs": [
    {
     "data": {
      "text/plain": [
       "\"Based on the provided context, here are the key points regarding Microsoft Intune's capabilities in device and application management:\\n\\n1. **Device Management (MDM)**: \\n   - Organization-owned devices are enrolled in Intune for Mobile Device Management (MDM), which is device-centric. \\n   - Intune enables configuration of device features based on user roles, such as allowing Wi-Fi access only for organization accounts.\\n   - Admin teams can manage devices fully, including user identities, app installations, and data access.\\n   - Policies can be deployed to devices during the enrollment process, making them ready for use upon completion.\\n\\n2. **Application Management (MAM)**:\\n   - For personal devices under Bring Your Own Device (BYOD) scenarios, Intune offers Mobile Application Management (MAM), which is user-centric.\\n   - MAM focuses on protecting app data, ensuring secure access and data protection within apps regardless of the device.\\n\\n3. **Policy Deployment and Automation**:\\n   - Intune allows for the creation and automation of policy deployment for apps, security, device configurations, and compliance.\\n   - Policies can be deployed to user and device groups, requiring only internet access for devices to receive them.\\n\\n4. **Self-Service Features**:\\n   - Employees and students can utilize the Company Portal app and website for tasks such as resetting PINs/passwords, installing apps, and joining groups.\\n   - The Company Portal can be customized to reduce support-related calls.\\n\\n5. **Integration with Mobile Threat Defense**:\\n   - Intune supports integration with mobile threat defense solutions, enhancing security postures.\\n\\n6. **Intune's Role in Hybrid and Remote Work**:\\n   - Intune provides solutions for managing various devices in hybrid and remote work environments, facilitating collaboration and secure resource access.\\n   - As a cloud-based endpoint management solution, it simplifies the management of apps and devices across desktops, mobile devices, and virtual endpoints.\\n\\nOverall, Intune is designed to help organizations efficiently manage devices and applications while securing organizational resources and supporting remote and hybrid workforces.\""
      ]
     },
     "execution_count": 21,
     "metadata": {},
     "output_type": "execute_result"
    }
   ],
   "source": [
    "#response\n",
    "\n",
    "response = retriever_chain.invoke({\"input\": \"Intune policies are applied to how many device platform?\"})\n",
    "response['answer']"
   ]
  },
  {
   "cell_type": "code",
   "execution_count": 22,
   "id": "3f90ecfc",
   "metadata": {},
   "outputs": [
    {
     "data": {
      "text/plain": [
       "{'input': 'Intune policies are applied to how many device platform?',\n",
       " 'context': [Document(id='4377970f-29d1-4dc8-8446-669c4d4ab104', metadata={'source': 'https://learn.microsoft.com/en-us/intune/intune-service/fundamentals/what-is-intune', 'title': 'What is Microsoft Intune | Microsoft Learn', 'description': 'Microsoft Intune manages users and devices, simplifies app management and automated policy deployment, and integrates with mobile threat defense. It connects to Managed Google Play, Apple tokens and certificates, and Teamviewer for remote assistance. Can use MDM or MAM to protect data, configure devices, and simplify access to company resources.', 'language': 'en-us'}, page_content=\"Enroll in device management, application management, or both\\n✅ Organization-owned devices are enrolled in Intune for mobile device management (MDM). MDM is device centric, so device features are configured based on who needs them. For example, you can configure a device to allow access to Wi-Fi, but only if the signed-in user is an organization account.\\nIn Intune, you create policies that configure features & settings and provide security & protection. Your admin team fully manages the devices, including the user identities that sign in, the apps that are installed, and the data that's accessed.\\nWhen devices enroll, you can deploy your policies during the enrollment process. When enrollment completes, the device is ready to use.\"),\n",
       "  Document(id='c9d5f53c-f57d-4ef1-a965-c66628a6e7c2', metadata={'source': 'https://learn.microsoft.com/en-us/intune/intune-service/fundamentals/what-is-intune', 'title': 'What is Microsoft Intune | Microsoft Learn', 'description': 'Microsoft Intune manages users and devices, simplifies app management and automated policy deployment, and integrates with mobile threat defense. It connects to Managed Google Play, Apple tokens and certificates, and Teamviewer for remote assistance. Can use MDM or MAM to protect data, configure devices, and simplify access to company resources.', 'language': 'en-us'}, page_content='For more information, go to Manage apps using Microsoft Intune.\\n✅ Automate policy deployment\\nYou can create policies for apps, security, device configuration, compliance, Conditional Access, and more. When the policies are ready, you can deploy these policies to your user groups and device groups. To receive these policies, the devices only need internet access.\\nFor more information, go to Assign policies in Microsoft Intune.\\n✅ Use the self-service features\\nEmployees and students can use the Company Portal app and website to reset a PIN/password, install apps, join groups, and more. You can customize the Company Portal to help reduce support calls.\\nFor more information, go to Configure the Intune Company Portal apps, Company Portal website, and Intune app.\\n✅ Integrate with mobile threat defense'),\n",
       "  Document(id='317fd585-8b23-443a-aa73-0b7c2c993123', metadata={'source': 'https://learn.microsoft.com/en-us/intune/intune-service/fundamentals/what-is-intune', 'title': 'What is Microsoft Intune | Microsoft Learn', 'description': 'Microsoft Intune manages users and devices, simplifies app management and automated policy deployment, and integrates with mobile threat defense. It connects to Managed Google Play, Apple tokens and certificates, and Teamviewer for remote assistance. Can use MDM or MAM to protect data, configure devices, and simplify access to company resources.', 'language': 'en-us'}, page_content=\"When devices enroll, you can deploy your policies during the enrollment process. When enrollment completes, the device is ready to use.\\n✅ For personal devices in bring-your-own-device (BYOD) scenarios, you can use Intune for mobile application management (MAM). MAM is user centric, so the app data is protected regardless of the device used to access this data. There's a focus on apps, including securely accessing apps and protecting data within the apps.\\nWith MAM, you can:\"),\n",
       "  Document(id='27626b1c-7105-4941-aaf0-f9008636c3ee', metadata={'source': 'https://learn.microsoft.com/en-us/intune/intune-service/fundamentals/what-is-intune', 'title': 'What is Microsoft Intune | Microsoft Learn', 'description': 'Microsoft Intune manages users and devices, simplifies app management and automated policy deployment, and integrates with mobile threat defense. It connects to Managed Google Play, Apple tokens and certificates, and Teamviewer for remote assistance. Can use MDM or MAM to protect data, configure devices, and simplify access to company resources.', 'language': 'en-us'}, page_content=\"Microsoft Intune securely manages identities, manages apps, and manages devices\\n\\n\\n\\n\\n\\n\\t\\t\\t\\t2025-04-30\\n\\t\\t\\t\\n\\n\\n\\n\\n\\n\\n\\n\\nFeedback\\n\\n\\n\\n\\n\\n\\t\\t\\t\\tIn this article\\n\\t\\t\\t\\n\\nAs organizations support hybrid and remote workforces, they're challenged with managing the different devices that access organization resources. Employees and students need to collaborate, work from anywhere, and securely access and connect to these resources. Admins need to protect organization data, manage end user access, and support users from wherever they work.\\n✅ To help with these challenges and tasks, use Microsoft Intune.\\nMicrosoft Intune is a cloud-based endpoint management solution. It manages user access to organizational resources and simplifies app and device management across your many devices, including mobile devices, desktop computers, and virtual endpoints.\")],\n",
       " 'answer': \"Based on the provided context, here are the key points regarding Microsoft Intune's capabilities in device and application management:\\n\\n1. **Device Management (MDM)**: \\n   - Organization-owned devices are enrolled in Intune for Mobile Device Management (MDM), which is device-centric. \\n   - Intune enables configuration of device features based on user roles, such as allowing Wi-Fi access only for organization accounts.\\n   - Admin teams can manage devices fully, including user identities, app installations, and data access.\\n   - Policies can be deployed to devices during the enrollment process, making them ready for use upon completion.\\n\\n2. **Application Management (MAM)**:\\n   - For personal devices under Bring Your Own Device (BYOD) scenarios, Intune offers Mobile Application Management (MAM), which is user-centric.\\n   - MAM focuses on protecting app data, ensuring secure access and data protection within apps regardless of the device.\\n\\n3. **Policy Deployment and Automation**:\\n   - Intune allows for the creation and automation of policy deployment for apps, security, device configurations, and compliance.\\n   - Policies can be deployed to user and device groups, requiring only internet access for devices to receive them.\\n\\n4. **Self-Service Features**:\\n   - Employees and students can utilize the Company Portal app and website for tasks such as resetting PINs/passwords, installing apps, and joining groups.\\n   - The Company Portal can be customized to reduce support-related calls.\\n\\n5. **Integration with Mobile Threat Defense**:\\n   - Intune supports integration with mobile threat defense solutions, enhancing security postures.\\n\\n6. **Intune's Role in Hybrid and Remote Work**:\\n   - Intune provides solutions for managing various devices in hybrid and remote work environments, facilitating collaboration and secure resource access.\\n   - As a cloud-based endpoint management solution, it simplifies the management of apps and devices across desktops, mobile devices, and virtual endpoints.\\n\\nOverall, Intune is designed to help organizations efficiently manage devices and applications while securing organizational resources and supporting remote and hybrid workforces.\"}"
      ]
     },
     "execution_count": 22,
     "metadata": {},
     "output_type": "execute_result"
    }
   ],
   "source": [
    "response"
   ]
  },
  {
   "cell_type": "code",
   "execution_count": null,
   "id": "b0db7b12",
   "metadata": {},
   "outputs": [],
   "source": [
    "##using ollama techniques doing same \n",
    "\n"
   ]
  }
 ],
 "metadata": {
  "kernelspec": {
   "display_name": "myenv",
   "language": "python",
   "name": "python3"
  },
  "language_info": {
   "codemirror_mode": {
    "name": "ipython",
    "version": 3
   },
   "file_extension": ".py",
   "mimetype": "text/x-python",
   "name": "python",
   "nbconvert_exporter": "python",
   "pygments_lexer": "ipython3",
   "version": "3.11.0"
  }
 },
 "nbformat": 4,
 "nbformat_minor": 5
}
